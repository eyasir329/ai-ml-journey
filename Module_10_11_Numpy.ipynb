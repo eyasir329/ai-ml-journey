{
 "cells": [
  {
   "cell_type": "markdown",
   "id": "3f6605c7-499d-425d-ac2f-db2927311a33",
   "metadata": {
    "panel-layout": {
     "height": 77.91667175292969,
     "visible": true,
     "width": 100
    }
   },
   "source": [
    "## Data Analysis With Numpy\n",
    "### (Numerical Python)"
   ]
  },
  {
   "cell_type": "code",
   "execution_count": 1,
   "id": "de2860de-96be-4c17-909c-9df38de97195",
   "metadata": {
    "panel-layout": {
     "height": 0,
     "visible": true,
     "width": 100
    }
   },
   "outputs": [
    {
     "name": "stdout",
     "output_type": "stream",
     "text": [
      "[1, 2, 3]\n"
     ]
    }
   ],
   "source": [
    "arr = [1, 2, 3]\n",
    "print(arr)"
   ]
  },
  {
   "cell_type": "code",
   "execution_count": 2,
   "id": "f1103e6c-572b-46f6-afbd-d0f039ee6e61",
   "metadata": {
    "panel-layout": {
     "height": 0,
     "visible": true,
     "width": 100
    }
   },
   "outputs": [
    {
     "name": "stdout",
     "output_type": "stream",
     "text": [
      "[1, 2, 3, 1, 2, 3, 1, 2, 3, 1, 2, 3, 1, 2, 3]\n"
     ]
    }
   ],
   "source": [
    "print(arr*5)"
   ]
  },
  {
   "cell_type": "code",
   "execution_count": 3,
   "id": "3b91bfa3-0f7b-4bda-994d-54e8b2f3733d",
   "metadata": {},
   "outputs": [],
   "source": [
    "# ndarray - main object of numpy\n",
    "# all element has same data type inside ndarray\n",
    "# faster mathematical operations"
   ]
  },
  {
   "cell_type": "code",
   "execution_count": 4,
   "id": "e4146051-4859-47d4-98e0-442a9779167b",
   "metadata": {
    "panel-layout": {
     "height": 0,
     "visible": true,
     "width": 100
    }
   },
   "outputs": [
    {
     "name": "stdout",
     "output_type": "stream",
     "text": [
      "[1 2 3]\n",
      "[ 5 10 15]\n"
     ]
    }
   ],
   "source": [
    "import numpy as np\n",
    "arr1 = np.array(arr)\n",
    "print(arr1)\n",
    "arr1 = arr1*5\n",
    "print(arr1)"
   ]
  },
  {
   "cell_type": "code",
   "execution_count": 5,
   "id": "f6890fd3-df7f-446f-9e12-149a28be33e0",
   "metadata": {
    "panel-layout": {
     "height": 27.149993896484375,
     "visible": true,
     "width": 100
    }
   },
   "outputs": [
    {
     "data": {
      "text/plain": [
       "array(['1', '1.9', 'gdgk'], dtype='<U32')"
      ]
     },
     "execution_count": 5,
     "metadata": {},
     "output_type": "execute_result"
    }
   ],
   "source": [
    "arr2 = np.array([1, 1.9, 'gdgk',])\n",
    "arr2"
   ]
  },
  {
   "cell_type": "markdown",
   "id": "4b4c7fbc-c71b-45ed-8fc2-3240a20467cc",
   "metadata": {},
   "source": [
    "## Ndarray"
   ]
  },
  {
   "cell_type": "code",
   "execution_count": 6,
   "id": "9589a175-afd8-4314-aa77-57f463295a52",
   "metadata": {},
   "outputs": [
    {
     "name": "stdout",
     "output_type": "stream",
     "text": [
      "[2 6 7]\n",
      "[[1 2 3]\n",
      " [4 5 6]]\n",
      "[[[1 2 3]\n",
      "  [4 5 6]]\n",
      "\n",
      " [[1 2 3]\n",
      "  [4 5 6]]\n",
      "\n",
      " [[1 2 3]\n",
      "  [4 5 6]]]\n"
     ]
    }
   ],
   "source": [
    "# 1D array\n",
    "arr1 = np.array([2, 6, 7])\n",
    "print(arr1)\n",
    "\n",
    "# 2D array\n",
    "arr2 = np.array([\n",
    "    [1, 2, 3],  # row1\n",
    "    [4, 5, 6]   # row2\n",
    "])\n",
    "print(arr2)\n",
    "\n",
    "# 3D array\n",
    "arr3 = np.array([\n",
    "    [[1, 2, 3], [4, 5, 6]],  # first floor\n",
    "    [[1, 2, 3], [4, 5, 6]],  # 2nd floor\n",
    "    [[1, 2, 3], [4, 5, 6]],  # 3rd floor\n",
    "])\n",
    "print(arr3)\n"
   ]
  },
  {
   "cell_type": "markdown",
   "id": "b830a183-d66a-4125-b4dd-843922def1e7",
   "metadata": {},
   "source": [
    "#### Array Attribute"
   ]
  },
  {
   "cell_type": "code",
   "execution_count": 7,
   "id": "16bd1d50-c729-4816-ad57-98cb190eb061",
   "metadata": {},
   "outputs": [
    {
     "name": "stdout",
     "output_type": "stream",
     "text": [
      "1\n",
      "2\n",
      "3\n",
      "(3,)\n",
      "(2, 3)\n",
      "(3, 2, 3)\n",
      "int64\n",
      "int64\n",
      "int64\n",
      "3\n",
      "6\n",
      "18\n"
     ]
    }
   ],
   "source": [
    "# dimension\n",
    "print(arr1.ndim)\n",
    "print(arr2.ndim)\n",
    "print(arr3.ndim)\n",
    "\n",
    "# shape\n",
    "print(arr1.shape)\n",
    "print(arr2.shape)\n",
    "print(arr3.shape)\n",
    "\n",
    "# data type\n",
    "print(arr1.dtype)\n",
    "print(arr2.dtype)\n",
    "print(arr3.dtype)\n",
    "\n",
    "# size\n",
    "print(arr1.size)\n",
    "print(arr2.size)\n",
    "print(arr3.size)"
   ]
  },
  {
   "cell_type": "markdown",
   "id": "0510c389-a712-41f9-a5f5-a2e81a9cf8b6",
   "metadata": {},
   "source": [
    "#### Data type"
   ]
  },
  {
   "cell_type": "code",
   "execution_count": 8,
   "id": "f85ca996-72b1-4961-b523-6dce5e7a214e",
   "metadata": {},
   "outputs": [
    {
     "name": "stdout",
     "output_type": "stream",
     "text": [
      "float64\n",
      "<U32\n",
      "<U32\n"
     ]
    }
   ],
   "source": [
    "arr = np.array([1,2,3.2])\n",
    "# upcasted to floatData\n",
    "print(arr.dtype)\n",
    "\n",
    "arr = np.array([1,1.3,'hello'])\n",
    "# upcasted to string\n",
    "print(arr.dtype)\n",
    "\n",
    "arr = np.array([1,1.3,'hello',True])\n",
    "print(arr.dtype)"
   ]
  },
  {
   "cell_type": "markdown",
   "id": "e8751112-b069-4064-bd38-70f537144888",
   "metadata": {},
   "source": [
    "### Selecting a data type for an array"
   ]
  },
  {
   "cell_type": "code",
   "execution_count": 9,
   "id": "23b0ff05-a031-45ae-8884-f5e84777917b",
   "metadata": {},
   "outputs": [
    {
     "name": "stdout",
     "output_type": "stream",
     "text": [
      "int16\n",
      "[  1   2 300]\n",
      "int32\n"
     ]
    },
    {
     "ename": "ValueError",
     "evalue": "could not convert string to float: 'hello'",
     "output_type": "error",
     "traceback": [
      "\u001b[0;31m---------------------------------------------------------------------------\u001b[0m",
      "\u001b[0;31mValueError\u001b[0m                                Traceback (most recent call last)",
      "Cell \u001b[0;32mIn[9], line 10\u001b[0m\n\u001b[1;32m      7\u001b[0m \u001b[38;5;28mprint\u001b[39m(arr\u001b[38;5;241m.\u001b[39mdtype)\n\u001b[1;32m      9\u001b[0m \u001b[38;5;66;03m# error\u001b[39;00m\n\u001b[0;32m---> 10\u001b[0m arr \u001b[38;5;241m=\u001b[39m np\u001b[38;5;241m.\u001b[39marray([\u001b[38;5;241m1\u001b[39m,\u001b[38;5;241m1.2\u001b[39m,\u001b[38;5;124m'\u001b[39m\u001b[38;5;124mhello\u001b[39m\u001b[38;5;124m'\u001b[39m,\u001b[38;5;28;01mTrue\u001b[39;00m], dtype \u001b[38;5;241m=\u001b[39m np\u001b[38;5;241m.\u001b[39mfloat64)\n\u001b[1;32m     11\u001b[0m \u001b[38;5;28mprint\u001b[39m(arr\u001b[38;5;241m.\u001b[39mdtype)\n",
      "\u001b[0;31mValueError\u001b[0m: could not convert string to float: 'hello'"
     ]
    }
   ],
   "source": [
    "arr = np.array([1,2,300], dtype = np.int16)\n",
    "print(arr.dtype)\n",
    "print(arr)\n",
    "\n",
    "# alternative way\n",
    "arr = arr.astype(np.int32)\n",
    "print(arr.dtype)\n",
    "\n",
    "# error\n",
    "arr = np.array([1,1.2,'hello',True], dtype = np.float64)\n",
    "print(arr.dtype)"
   ]
  },
  {
   "cell_type": "markdown",
   "id": "2e155058-3988-42aa-a409-b0159d4d1cf2",
   "metadata": {},
   "source": [
    "## Ndarray creation from existing data"
   ]
  },
  {
   "cell_type": "code",
   "execution_count": null,
   "id": "166cdcbe-04a6-4abf-9d90-55395cb25ef9",
   "metadata": {},
   "outputs": [],
   "source": [
    "# list\n",
    "\n",
    "lst = [10, 20, 30, 40, 40.5]\n",
    "arr = np.array(lst, dtype=np.int32)\n",
    "print(arr)\n",
    "print(type(arr))\n",
    "print(arr.dtype)\n",
    "\n",
    "mixed_lst = [10, True, 'Hello']\n",
    "arr = np.array(mixed_lst)\n",
    "print(arr)\n",
    "print(type(arr))\n",
    "print(arr.dtype)\n",
    "\n",
    "matrix = [\n",
    "    [1, 2, 3],\n",
    "    [4, 5, 6]\n",
    "]\n",
    "arr = np.array(matrix)\n",
    "print(arr)\n",
    "print(type(arr))\n",
    "print(arr.dtype)"
   ]
  },
  {
   "cell_type": "code",
   "execution_count": null,
   "id": "a9e3e682-a2d3-4479-9ff8-b38ac0911fed",
   "metadata": {},
   "outputs": [],
   "source": [
    "# tuple\n",
    "\n",
    "tpl = (10, 20, 30)\n",
    "arr = np.array(tpl, dtype=np.int32)\n",
    "print(arr)\n",
    "print(type(arr))\n",
    "print(arr.dtype)\n",
    "\n",
    "arr = arr.astype(np.int16)\n",
    "print(arr)\n",
    "print(type(arr))\n",
    "print(arr.dtype)\n",
    "\n",
    "print(arr.shape)\n",
    "print(arr.ndim)"
   ]
  },
  {
   "cell_type": "code",
   "execution_count": null,
   "id": "1b154563-dc09-46f9-b2dc-ac8f1984b1a5",
   "metadata": {},
   "outputs": [],
   "source": [
    "# set -> directly pass make as a object\n",
    "\n",
    "st = {1, 2, 3}\n",
    "arr = np.array(st)\n",
    "print(arr)\n",
    "print(type(arr))\n",
    "print(arr.dtype)"
   ]
  },
  {
   "cell_type": "code",
   "execution_count": null,
   "id": "5d35440a-7e94-428e-9990-48f7c3306085",
   "metadata": {},
   "outputs": [],
   "source": [
    "arr = np.array(list(st))\n",
    "print(arr)\n",
    "print(type(arr))\n",
    "print(arr.dtype)\n",
    "print(arr.shape)"
   ]
  },
  {
   "cell_type": "code",
   "execution_count": null,
   "id": "14da7a9c-55c9-4831-86ca-15bcc1cd6436",
   "metadata": {},
   "outputs": [],
   "source": [
    "# dictionary\n",
    "\n",
    "dc = {'a': 10, 'b': 20, 'c': 30}\n",
    "\n",
    "keys = dc.keys()\n",
    "values = dc.values()\n",
    "items = dc.items()\n",
    "\n",
    "print(keys)\n",
    "print(type(keys))\n",
    "\n",
    "print(values)\n",
    "print(type(values))\n",
    "\n",
    "print(items)\n",
    "print(type(items))"
   ]
  },
  {
   "cell_type": "code",
   "execution_count": null,
   "id": "2fe2203c-3c1e-49a8-9a55-ee86ca67490f",
   "metadata": {},
   "outputs": [],
   "source": [
    "# keys to ndarray\n",
    "arr = np.array(list(keys))\n",
    "print(arr)\n",
    "print(type(arr))\n",
    "print(arr.dtype)\n",
    "print(arr.shape)\n",
    "print(arr.ndim)\n",
    "print(arr.size)"
   ]
  },
  {
   "cell_type": "code",
   "execution_count": null,
   "id": "64c00100-aa98-4b89-b01c-46b678b1e5a6",
   "metadata": {},
   "outputs": [],
   "source": [
    "# values to ndarray\n",
    "arr = np.array(list(values))\n",
    "print(arr)\n",
    "print(type(arr))\n",
    "print(arr.dtype)\n",
    "print(arr.shape)\n",
    "print(arr.ndim)\n",
    "print(arr.size)"
   ]
  },
  {
   "cell_type": "code",
   "execution_count": null,
   "id": "c48b43ba-083d-42fd-8edf-17f242ee5d7a",
   "metadata": {},
   "outputs": [],
   "source": [
    "# items to ndarray\n",
    "arr = np.array(list(items))\n",
    "print(arr)\n",
    "print(type(arr))\n",
    "print(arr.dtype)\n",
    "print(arr.shape)\n",
    "print(arr.ndim)\n",
    "print(arr.size)"
   ]
  },
  {
   "cell_type": "markdown",
   "id": "c19ad51c-5916-4b08-9967-3a7c8660dee5",
   "metadata": {},
   "source": [
    "## Creating ndarray from scratch"
   ]
  },
  {
   "cell_type": "code",
   "execution_count": null,
   "id": "a0f54594-b31d-41ae-a780-74147c149cf4",
   "metadata": {},
   "outputs": [],
   "source": [
    "# np.zeros\n",
    "\n",
    "arr = np.zeros(3)\n",
    "print(arr)\n",
    "\n",
    "arr = np.zeros(3, dtype=np.int16)\n",
    "print(arr)\n",
    "\n",
    "arr = np.zeros((2, 3), dtype=np.int8)\n",
    "print(arr)\n",
    "print(type(arr))\n",
    "print(arr.dtype)\n",
    "print(arr.shape)\n",
    "print(arr.ndim)\n",
    "print(arr.size)\n",
    "\n",
    "arr = np.zeros_like(arr3)\n",
    "print(arr)\n",
    "print(arr.shape)"
   ]
  },
  {
   "cell_type": "code",
   "execution_count": null,
   "id": "88fc565a-67ad-44ff-b2e8-3ba3b71e3b85",
   "metadata": {},
   "outputs": [],
   "source": [
    "# np.ones\n",
    "\n",
    "arr = np.ones((2, 3), dtype=np.int8)\n",
    "print(arr)\n",
    "print(type(arr))\n",
    "print(arr.dtype)\n",
    "print(arr.shape)\n",
    "print(arr.ndim)\n",
    "print(arr.size)\n",
    "\n",
    "arr = np.ones_like(arr3)\n",
    "print(arr)\n",
    "print(arr.shape)"
   ]
  },
  {
   "cell_type": "code",
   "execution_count": null,
   "id": "fbb13544-0d32-4510-9c7a-ca3b9eba3e3c",
   "metadata": {},
   "outputs": [],
   "source": [
    "# np.empty -> random value\n",
    "\n",
    "arr = np.empty((2, 3), dtype=np.int8)\n",
    "print(arr)\n",
    "print(type(arr))\n",
    "print(arr.dtype)\n",
    "print(arr.shape)\n",
    "print(arr.ndim)\n",
    "print(arr.size)\n",
    "\n",
    "arr = np.empty_like(arr3)\n",
    "print(arr)\n",
    "print(arr.shape)"
   ]
  },
  {
   "cell_type": "code",
   "execution_count": null,
   "id": "0012652a-995b-4016-8c40-a8772ebab989",
   "metadata": {},
   "outputs": [],
   "source": [
    "# np.full\n",
    "\n",
    "arr = np.full((2, 3), np.inf)\n",
    "print(arr)\n",
    "print(type(arr))\n",
    "print(arr.dtype)\n",
    "print(arr.shape)\n",
    "print(arr.ndim)\n",
    "print(arr.size)\n",
    "\n",
    "arr = np.full_like(arr3, 20, dtype=np.float32)\n",
    "print(arr)\n",
    "print(arr.shape)"
   ]
  },
  {
   "cell_type": "markdown",
   "id": "293c5416-a6b2-49cb-bc01-e291713bf14c",
   "metadata": {},
   "source": [
    "## Array creation with random values"
   ]
  },
  {
   "cell_type": "code",
   "execution_count": null,
   "id": "fe8db3df-0871-4c18-9fef-b1a0450d1c2b",
   "metadata": {},
   "outputs": [],
   "source": [
    "# np.random.rand(shape) : 0->1\n",
    "\n",
    "arr = np.random.rand(2, 3)\n",
    "print(arr)\n",
    "print(type(arr))\n",
    "print(arr.dtype)\n",
    "print(arr.shape)\n",
    "print(arr.ndim)\n",
    "print(arr.size)"
   ]
  },
  {
   "cell_type": "code",
   "execution_count": null,
   "id": "db84816b-06dc-437a-9d6f-b728d1ee5ddb",
   "metadata": {},
   "outputs": [],
   "source": [
    "# np.random.randint(start, end, shape)\n",
    "\n",
    "arr = np.random.randint(1, 10, (2, 3))\n",
    "print(arr)\n",
    "print(type(arr))\n",
    "print(arr.dtype)\n",
    "print(arr.shape)\n",
    "print(arr.ndim)\n",
    "print(arr.size)"
   ]
  },
  {
   "cell_type": "code",
   "execution_count": null,
   "id": "157fd7a0-8af4-4c18-ac21-31d9e197c51c",
   "metadata": {},
   "outputs": [],
   "source": [
    "# np.random.uniform(start, end, shape)\n",
    "\n",
    "arr = np.random.uniform(1, 10, (2, 3))\n",
    "print(arr)\n",
    "print(type(arr))\n",
    "print(arr.dtype)\n",
    "print(arr.shape)\n",
    "print(arr.ndim)\n",
    "print(arr.size)"
   ]
  },
  {
   "cell_type": "markdown",
   "id": "c37c2f11-1fc1-489f-be35-ff4bc8701acb",
   "metadata": {},
   "source": [
    "### Array creation with range functions"
   ]
  },
  {
   "cell_type": "code",
   "execution_count": null,
   "id": "56fde5a3-7825-41c7-a1a6-32ab329cb625",
   "metadata": {},
   "outputs": [],
   "source": [
    "# np.arange(first, end, step) -> similar to range function\n",
    "\n",
    "arr = np.arange(1, 10, 1)\n",
    "print(arr)\n",
    "\n",
    "mat = arr.reshape(3, 2)\n",
    "print(mat)\n",
    "print(type(mat))\n",
    "print(mat.dtype)\n",
    "print(mat.shape)\n",
    "print(mat.ndim)\n",
    "print(mat.size)"
   ]
  },
  {
   "cell_type": "code",
   "execution_count": null,
   "id": "301d7ecc-b355-49bd-90e6-8f0ba37e1e74",
   "metadata": {},
   "outputs": [],
   "source": [
    "mat = arr.reshape(3, 3)\n",
    "print(mat)\n",
    "print(type(mat))\n",
    "print(mat.dtype)\n",
    "print(mat.shape)\n",
    "print(mat.ndim)\n",
    "print(mat.size)"
   ]
  },
  {
   "cell_type": "code",
   "execution_count": null,
   "id": "1e172268-57b1-4f05-b5ac-70dc4c494883",
   "metadata": {},
   "outputs": [],
   "source": [
    "# np.linspace(start, end(included), how much)\n",
    "\n",
    "arr = np.linspace(0, 4, 6)\n",
    "print(arr)\n",
    "print(type(arr))\n",
    "print(arr.dtype)\n",
    "print(arr.shape)\n",
    "print(arr.ndim)\n",
    "print(arr.size)"
   ]
  },
  {
   "cell_type": "code",
   "execution_count": null,
   "id": "f424db69-ba91-4bbe-b269-92aaac799fa7",
   "metadata": {},
   "outputs": [],
   "source": [
    "# np.logspace(start, end(included), how much)\n",
    "\n",
    "arr = np.logspace(0, 4, 6)\n",
    "print(arr)\n",
    "print(type(arr))\n",
    "print(arr.dtype)\n",
    "print(arr.shape)\n",
    "print(arr.ndim)\n",
    "print(arr.size)"
   ]
  },
  {
   "cell_type": "code",
   "execution_count": null,
   "id": "8def2c7c-b3a2-4441-b27e-1078b24c27ba",
   "metadata": {},
   "outputs": [],
   "source": [
    "arr = np.logspace(0, 4, 6, base=2)\n",
    "print(arr)\n",
    "print(type(arr))\n",
    "print(arr.dtype)\n",
    "print(arr.shape)\n",
    "print(arr.ndim)\n",
    "print(arr.size)"
   ]
  },
  {
   "cell_type": "markdown",
   "id": "a7258f45-0054-4d3e-9732-87b0e4c0c768",
   "metadata": {},
   "source": [
    "## Creating matrix for linear algebra"
   ]
  },
  {
   "cell_type": "code",
   "execution_count": null,
   "id": "119303a4-5b21-475a-b173-16bc9526fdbe",
   "metadata": {},
   "outputs": [],
   "source": [
    "# diagonal matrix\n",
    "\n",
    "diagonal_matrix = np.diag([1, 2, 3, 4])\n",
    "print(diagonal_matrix)\n",
    "print(diagonal_matrix.shape)\n",
    "\n",
    "diagonal_matrix = np.diag([1, 2, 3, 4], 1)\n",
    "print(diagonal_matrix)\n",
    "print(diagonal_matrix.shape)"
   ]
  },
  {
   "cell_type": "code",
   "execution_count": null,
   "id": "f4882331-90de-4ea4-a871-a490e0b5f26b",
   "metadata": {},
   "outputs": [],
   "source": [
    "# Identity matrix\n",
    "\n",
    "identity_mat = np.eye(4)\n",
    "print(identity_mat)\n",
    "print(identity_mat.shape)\n",
    "\n",
    "identity_mat = np.eye(4, 5)  # row, col\n",
    "print(identity_mat)\n",
    "print(identity_mat.shape)\n",
    "\n",
    "identity_mat = np.eye(4, 5, -1)  # row, col, k\n",
    "print(identity_mat)\n",
    "print(identity_mat.shape)"
   ]
  },
  {
   "cell_type": "markdown",
   "id": "8922e467-6f65-4f18-b042-b17cb9105ba9",
   "metadata": {},
   "source": [
    "## Indexing & Slicing"
   ]
  },
  {
   "cell_type": "code",
   "execution_count": null,
   "id": "fd0b16f7-cb26-4727-a563-64def4196877",
   "metadata": {},
   "outputs": [],
   "source": [
    "# indexing\n",
    "\n",
    "print(arr1)\n",
    "print(arr2)\n",
    "\n",
    "arr1[2] = 100\n",
    "print(arr1)\n",
    "\n",
    "arr2[0, 1] = 200\n",
    "print(arr2)"
   ]
  },
  {
   "cell_type": "code",
   "execution_count": null,
   "id": "493abf55-efb4-41fb-a2f2-4bda42caa858",
   "metadata": {},
   "outputs": [],
   "source": [
    "# slicing\n",
    "\n",
    "arr1 = np.array([1, 2, 3, 4, 5, 6, 7])\n",
    "print(arr1)\n",
    "\n",
    "mod_arr1 = arr1[0: 7: 2]  # start: end: step\n",
    "print(arr1)\n",
    "print(mod_arr1)\n",
    "\n",
    "arr1[2] = 100\n",
    "print(arr1)\n",
    "print(mod_arr1)  # automaticly change \n",
    "\n",
    "arr1 = np.array([1, 2, 3, 4, 5, 6, 7])\n",
    "mod_arr1 = arr1[0: 7: 2].copy()  # start: end: step\n",
    "print(arr1)\n",
    "print(mod_arr1)\n",
    "arr1[2] = 100\n",
    "print(mod_arr1)"
   ]
  },
  {
   "cell_type": "code",
   "execution_count": null,
   "id": "19a2597a-78b0-4670-95bf-db21634a3a72",
   "metadata": {},
   "outputs": [],
   "source": [
    "# 2D slicing\n",
    "# arr[row_start: row_end: step, col_start: col_end: step]  -> end(excluded)\n",
    "\n",
    "print(arr2)\n",
    "\n",
    "# getting a row\n",
    "row_0 = arr2[0:1,]\n",
    "print(row_0)\n",
    "\n",
    "row_0 = arr2[:1,]\n",
    "print(row_0)\n",
    "\n",
    "arr2[0][1] = 2\n",
    "print(row_0)\n",
    "\n",
    "print(arr2)\n",
    "\n",
    "# getting a column\n",
    "col_0 = arr2[:, :1]\n",
    "print(col_0)\n",
    "col_1 = arr2[::, 1:2]\n",
    "print(col_1)\n",
    "col_1 = arr2[::, 1:]\n",
    "print(col_1)"
   ]
  },
  {
   "cell_type": "code",
   "execution_count": null,
   "id": "4dd1ef71-41a1-4345-a80f-cfa3b2cccc23",
   "metadata": {},
   "outputs": [],
   "source": [
    "# getting a portion\n",
    "\n",
    "print(arr2)\n",
    "\n",
    "portion = arr2[::, 0:2]\n",
    "print(portion)"
   ]
  },
  {
   "cell_type": "markdown",
   "id": "b477dd05-78e4-4bb0-b219-4f1f690b50df",
   "metadata": {},
   "source": [
    "## Advanced Indexing"
   ]
  },
  {
   "cell_type": "code",
   "execution_count": null,
   "id": "529b594a-3214-4c35-b074-2eaa2937c4d8",
   "metadata": {},
   "outputs": [],
   "source": [
    "arr = np.array([10, 20, 30, 40])\n",
    "print(arr)\n",
    "\n",
    "values = arr[[0, 3, 1]]\n",
    "print(values)"
   ]
  },
  {
   "cell_type": "code",
   "execution_count": null,
   "id": "f0a0b3a8-e281-4fcb-804c-f3dac9b42b4c",
   "metadata": {},
   "outputs": [],
   "source": [
    "print(arr2)\n",
    "\n",
    "print(arr2[[0, 1], [1, 2]])\n",
    "\n",
    "# using something boolean\n",
    "arr1 = np.array([1, 2, 3, 4, 5, 6])\n",
    "print(arr1)\n",
    "print(arr1 > 1)\n",
    "print(arr2)\n",
    "print(arr2[arr1 > 1])"
   ]
  },
  {
   "cell_type": "code",
   "execution_count": null,
   "id": "20d248ea-9ae6-4af9-959c-2180e6573202",
   "metadata": {},
   "outputs": [],
   "source": [
    "# using something boolean\n",
    "arr1 = np.array([[1, 2, 3], [4, 5, 6]])\n",
    "print(arr1)\n",
    "print(arr1 > 1)\n",
    "print(arr2)\n",
    "print(arr2[arr1 > 1])"
   ]
  },
  {
   "cell_type": "code",
   "execution_count": null,
   "id": "0c5bb140-b579-4410-83aa-89255b5aae57",
   "metadata": {},
   "outputs": [],
   "source": [
    "print(arr2)\n",
    "\n",
    "arr2[arr2 > 2] = 0\n",
    "print(arr2)"
   ]
  },
  {
   "cell_type": "markdown",
   "id": "e6533dcd-3f38-4571-80a9-9a7c11060c9a",
   "metadata": {},
   "source": [
    "### Iterating over arrays"
   ]
  },
  {
   "cell_type": "code",
   "execution_count": null,
   "id": "14add45d-fdeb-4095-ad37-410bab717177",
   "metadata": {},
   "outputs": [],
   "source": [
    "arr3 = np.array([\n",
    "    [\n",
    "        [1, 2, 3],\n",
    "        [4, 5, 6]\n",
    "    ],\n",
    "    [\n",
    "        [7, 8, 9],\n",
    "        [10, 11, 12]\n",
    "    ]\n",
    "])\n",
    "print(arr3)"
   ]
  },
  {
   "cell_type": "code",
   "execution_count": null,
   "id": "46ffb8fd-cf61-469d-9b23-0ba25eb0fdd4",
   "metadata": {},
   "outputs": [],
   "source": [
    "# For a 3D array\n",
    "for matrix in arr3:\n",
    "    for row in matrix:\n",
    "        for element in row:\n",
    "            print(element)"
   ]
  },
  {
   "cell_type": "code",
   "execution_count": null,
   "id": "7b67685c-4840-4fcd-9677-3feb8e9f3539",
   "metadata": {},
   "outputs": [],
   "source": [
    "for i in np.nditer(arr3):\n",
    "    print(i)"
   ]
  },
  {
   "cell_type": "markdown",
   "id": "385ca99c-c0b3-4853-8d19-359215e8d228",
   "metadata": {},
   "source": [
    "### Practice Problems"
   ]
  },
  {
   "cell_type": "markdown",
   "id": "5d742492-62c3-48ee-ac8a-519bc2aa21e0",
   "metadata": {},
   "source": [
    "1: You have a list of temperatures recorded in Celsius.\n",
    "   \n",
    "Your task is to:\\\n",
    "Create a NumPy array from the given list.\\\n",
    "Convert all temperatures from Celsius to Fahrenheit. The formula is F = C* 1.8 + 32.\\\n",
    "Print the new Fahrenheit array.\n"
   ]
  },
  {
   "cell_type": "code",
   "execution_count": 10,
   "id": "f34bd51a-009a-476f-903b-acb3f7e0c3ac",
   "metadata": {},
   "outputs": [
    {
     "name": "stdout",
     "output_type": "stream",
     "text": [
      "[20 21 23 15 10 35 40 52 28 19]\n",
      "[ 68.   69.8  73.4  59.   50.   95.  104.  125.6  82.4  66.2]\n"
     ]
    }
   ],
   "source": [
    "given_temp = [20, 21, 23, 15, 10, 35, 40, 52, 28, 19]\n",
    "temp = np.array(given_temp)\n",
    "print(temp)\n",
    "\n",
    "temp = temp*1.8+32\n",
    "print(temp)"
   ]
  },
  {
   "cell_type": "markdown",
   "id": "220061f2-9614-4c07-ab64-8d69ee7841e1",
   "metadata": {},
   "source": [
    "2.  You have a Python list containing the lap times (in seconds) for an athlete.\\\n",
    "Task:\n",
    "\n",
    "Convert the list into a NumPy array.\\\n",
    "Print the array's shape, size, and data type.\\\n",
    "The athlete wants to see their times in minutes. Create a new array by dividing all the lap times by 60.\\\n",
    "Print the new array of lap times in minutes."
   ]
  },
  {
   "cell_type": "code",
   "execution_count": 11,
   "id": "f80ed2da-44a6-4ec9-9a4b-10a729c7bfec",
   "metadata": {},
   "outputs": [
    {
     "name": "stdout",
     "output_type": "stream",
     "text": [
      "(5,)\n",
      "5\n",
      "int64\n"
     ]
    }
   ],
   "source": [
    "lst = [10, 20, 30, 40, 50]\n",
    "arr = np.array(lst)\n",
    "print(arr.shape)\n",
    "print(arr.size)\n",
    "print(arr.dtype)"
   ]
  },
  {
   "cell_type": "code",
   "execution_count": 13,
   "id": "3a7f3d97-0175-4d11-815b-aefba577df72",
   "metadata": {},
   "outputs": [
    {
     "name": "stdout",
     "output_type": "stream",
     "text": [
      "[  33 1314 1483   74 7388  390]\n"
     ]
    }
   ],
   "source": [
    "lap_time = np.array([2000, 78899, 88999, 4444, 443323, 23444])  # given in seconds\n",
    "lap_time = lap_time//60  # convert to minutes\n",
    "print(lap_time)"
   ]
  }
 ],
 "metadata": {
  "kernelspec": {
   "display_name": "Python [conda env:base] *",
   "language": "python",
   "name": "conda-base-py"
  },
  "language_info": {
   "codemirror_mode": {
    "name": "ipython",
    "version": 3
   },
   "file_extension": ".py",
   "mimetype": "text/x-python",
   "name": "python",
   "nbconvert_exporter": "python",
   "pygments_lexer": "ipython3",
   "version": "3.13.5"
  },
  "panel-cell-order": [
   "3f6605c7-499d-425d-ac2f-db2927311a33",
   "de2860de-96be-4c17-909c-9df38de97195",
   "f1103e6c-572b-46f6-afbd-d0f039ee6e61",
   "e4146051-4859-47d4-98e0-442a9779167b",
   "f6890fd3-df7f-446f-9e12-149a28be33e0"
  ]
 },
 "nbformat": 4,
 "nbformat_minor": 5
}
