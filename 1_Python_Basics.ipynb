{
 "cells": [
  {
   "cell_type": "markdown",
   "id": "c9747ff8-6294-4dad-abfc-c664a306a022",
   "metadata": {},
   "source": [
    "## Python Basics"
   ]
  },
  {
   "cell_type": "markdown",
   "id": "5050f66f-15c9-4ebd-8eeb-5fddbf1d8349",
   "metadata": {},
   "source": [
    "### Overview"
   ]
  },
  {
   "cell_type": "code",
   "execution_count": 5,
   "id": "7813a0a7-7484-4943-9aac-0d4038b2f28f",
   "metadata": {},
   "outputs": [
    {
     "name": "stdout",
     "output_type": "stream",
     "text": [
      "<class 'list'> [[1, 2, 3, ['Arif', 'Rahul', 3.5, 200], 4], [10, 20, 30], 10]\n",
      "<class 'list'> [[1, 2, 3], [4, 5, 6]]\n",
      "<class 'tuple'> (1, 2, 3, [1, 2, 3], 'Arif')\n",
      "<class 'dict'> {'A': 1, 'B': 2, 'C': 3}\n",
      "<class 'set'> {1, 2, 3, 4, 'Arif'}\n"
     ]
    }
   ],
   "source": [
    "# data types\n",
    "\n",
    "x = 42  # int\n",
    "y = 3.14  # float\n",
    "z = \"hello\"  # str\n",
    "t = True  # bool\n",
    "\n",
    "lst = [[1, 2, 3, [\"Arif\", \"Rahul\", 3.5, 100*2], 4], [10, 20, 30]]\n",
    "lst.append(10)\n",
    "lst2D = [  # list(mutable)\n",
    "    [1, 2, 3],\n",
    "    [4, 5, 6]\n",
    "]\n",
    "tpl = (1, 2, 3, [1, 2, 3], \"Arif\")  # tuple(immutable)\n",
    "dct = {\"A\": 1, \"B\": 2, \"C\": 3}  # dict(mappin\n",
    "st = {1, 2, 3, 4, \"Arif\"}  # set(unique)\n",
    "\n",
    "print(type(lst), lst)\n",
    "print(type(lst2D), lst2D)\n",
    "print(type(tpl), tpl)\n",
    "print(type(dct), dct)\n",
    "print(type(st), st)"
   ]
  },
  {
   "cell_type": "code",
   "execution_count": null,
   "id": "fc17ed2a-e3a1-4b64-be9f-16962fe7b950",
   "metadata": {},
   "outputs": [],
   "source": [
    "# Slicing"
   ]
  },
  {
   "cell_type": "code",
   "execution_count": null,
   "id": "4a331fed-d5fd-41d1-8787-3ce2ca5b623b",
   "metadata": {},
   "outputs": [],
   "source": [
    "# Truthiness"
   ]
  },
  {
   "cell_type": "code",
   "execution_count": null,
   "id": "6010d96c-a577-47ad-88b8-077935966630",
   "metadata": {},
   "outputs": [],
   "source": [
    "# f-strings"
   ]
  },
  {
   "cell_type": "code",
   "execution_count": null,
   "id": "cc2b58ed-9541-434a-b497-2993c66b511f",
   "metadata": {},
   "outputs": [],
   "source": [
    "# Nested data structures"
   ]
  },
  {
   "cell_type": "code",
   "execution_count": null,
   "id": "a1079622-60f4-45c1-adde-0530d877c2db",
   "metadata": {},
   "outputs": [],
   "source": [
    "# Excercise-1"
   ]
  },
  {
   "cell_type": "code",
   "execution_count": null,
   "id": "53712b3f-b9ac-4ed3-917d-1aa00798c6c4",
   "metadata": {},
   "outputs": [],
   "source": [
    "# Excercise-2"
   ]
  },
  {
   "cell_type": "code",
   "execution_count": null,
   "id": "0ec460f7-862d-4440-a4e9-156bc7b6a349",
   "metadata": {},
   "outputs": [],
   "source": [
    "# control flow & loops"
   ]
  },
  {
   "cell_type": "code",
   "execution_count": null,
   "id": "bd08c442-ff2b-4f19-bea7-2f9f829f182b",
   "metadata": {},
   "outputs": [],
   "source": [
    "# Comprehensions"
   ]
  },
  {
   "cell_type": "code",
   "execution_count": null,
   "id": "efd290d2-385c-4806-8835-bca709bf15d9",
   "metadata": {},
   "outputs": [],
   "source": [
    "# Nested comprehensions and conditional logics"
   ]
  },
  {
   "cell_type": "code",
   "execution_count": null,
   "id": "7c7c0f2d-ad47-4d64-923f-0de3d03c7883",
   "metadata": {},
   "outputs": [],
   "source": [
    "# Excercise-3"
   ]
  },
  {
   "cell_type": "code",
   "execution_count": null,
   "id": "c2e55e05-ff5e-44c2-96f4-790e6e4b5770",
   "metadata": {},
   "outputs": [],
   "source": [
    "# Excercise-4"
   ]
  }
 ],
 "metadata": {
  "kernelspec": {
   "display_name": "Python [conda env:base] *",
   "language": "python",
   "name": "conda-base-py"
  },
  "language_info": {
   "codemirror_mode": {
    "name": "ipython",
    "version": 3
   },
   "file_extension": ".py",
   "mimetype": "text/x-python",
   "name": "python",
   "nbconvert_exporter": "python",
   "pygments_lexer": "ipython3",
   "version": "3.13.5"
  }
 },
 "nbformat": 4,
 "nbformat_minor": 5
}
