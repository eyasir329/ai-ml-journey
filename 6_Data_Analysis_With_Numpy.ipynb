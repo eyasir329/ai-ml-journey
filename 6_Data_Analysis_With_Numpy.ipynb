{
 "cells": [
  {
   "cell_type": "markdown",
   "id": "3f6605c7-499d-425d-ac2f-db2927311a33",
   "metadata": {
    "panel-layout": {
     "height": 77.91667175292969,
     "visible": true,
     "width": 100
    }
   },
   "source": [
    "## Data Analysis With Numpy\n",
    "### (Numerical Python)"
   ]
  },
  {
   "cell_type": "code",
   "execution_count": 1,
   "id": "de2860de-96be-4c17-909c-9df38de97195",
   "metadata": {
    "panel-layout": {
     "height": 0,
     "visible": true,
     "width": 100
    }
   },
   "outputs": [
    {
     "name": "stdout",
     "output_type": "stream",
     "text": [
      "[1, 2, 3]\n"
     ]
    }
   ],
   "source": [
    "arr = [1, 2, 3]\n",
    "print(arr)"
   ]
  },
  {
   "cell_type": "code",
   "execution_count": 2,
   "id": "f1103e6c-572b-46f6-afbd-d0f039ee6e61",
   "metadata": {
    "panel-layout": {
     "height": 0,
     "visible": true,
     "width": 100
    }
   },
   "outputs": [
    {
     "name": "stdout",
     "output_type": "stream",
     "text": [
      "[1, 2, 3, 1, 2, 3, 1, 2, 3, 1, 2, 3, 1, 2, 3]\n"
     ]
    }
   ],
   "source": [
    "print(arr*5)"
   ]
  },
  {
   "cell_type": "code",
   "execution_count": 3,
   "id": "3b91bfa3-0f7b-4bda-994d-54e8b2f3733d",
   "metadata": {},
   "outputs": [],
   "source": [
    "# ndarray - main object of numpy\n",
    "# all element has same data type inside ndarray\n",
    "# faster mathematical operations"
   ]
  },
  {
   "cell_type": "code",
   "execution_count": 4,
   "id": "e4146051-4859-47d4-98e0-442a9779167b",
   "metadata": {
    "panel-layout": {
     "height": 0,
     "visible": true,
     "width": 100
    }
   },
   "outputs": [
    {
     "name": "stdout",
     "output_type": "stream",
     "text": [
      "[1 2 3]\n",
      "[ 5 10 15]\n"
     ]
    }
   ],
   "source": [
    "import numpy as np\n",
    "arr1 = np.array(arr)\n",
    "print(arr1)\n",
    "arr1 = arr1*5\n",
    "print(arr1)"
   ]
  },
  {
   "cell_type": "code",
   "execution_count": 5,
   "id": "f6890fd3-df7f-446f-9e12-149a28be33e0",
   "metadata": {
    "panel-layout": {
     "height": 27.149993896484375,
     "visible": true,
     "width": 100
    }
   },
   "outputs": [
    {
     "data": {
      "text/plain": [
       "array(['1', '1.9', 'gdgk'], dtype='<U32')"
      ]
     },
     "execution_count": 5,
     "metadata": {},
     "output_type": "execute_result"
    }
   ],
   "source": [
    "arr2 = np.array([1, 1.9, 'gdgk',])\n",
    "arr2"
   ]
  },
  {
   "cell_type": "markdown",
   "id": "4b4c7fbc-c71b-45ed-8fc2-3240a20467cc",
   "metadata": {},
   "source": [
    "## Ndarray"
   ]
  },
  {
   "cell_type": "code",
   "execution_count": 6,
   "id": "9589a175-afd8-4314-aa77-57f463295a52",
   "metadata": {},
   "outputs": [
    {
     "name": "stdout",
     "output_type": "stream",
     "text": [
      "[2 6 7]\n",
      "[[1 2 3]\n",
      " [4 5 6]]\n",
      "[[[1 2 3]\n",
      "  [4 5 6]]\n",
      "\n",
      " [[1 2 3]\n",
      "  [4 5 6]]\n",
      "\n",
      " [[1 2 3]\n",
      "  [4 5 6]]]\n"
     ]
    }
   ],
   "source": [
    "# 1D array\n",
    "arr1 = np.array([2, 6, 7])\n",
    "print(arr1)\n",
    "\n",
    "# 2D array\n",
    "arr2 = np.array([\n",
    "    [1, 2, 3],  # row1\n",
    "    [4, 5, 6]   # row2\n",
    "])\n",
    "print(arr2)\n",
    "\n",
    "# 3D array\n",
    "arr3 = np.array([\n",
    "    [[1, 2, 3], [4, 5, 6]],  # first floor\n",
    "    [[1, 2, 3], [4, 5, 6]],  # 2nd floor\n",
    "    [[1, 2, 3], [4, 5, 6]],  # 3rd floor\n",
    "])\n",
    "print(arr3)\n"
   ]
  },
  {
   "cell_type": "markdown",
   "id": "b830a183-d66a-4125-b4dd-843922def1e7",
   "metadata": {},
   "source": [
    "#### Array Attribute"
   ]
  },
  {
   "cell_type": "code",
   "execution_count": 7,
   "id": "16bd1d50-c729-4816-ad57-98cb190eb061",
   "metadata": {},
   "outputs": [
    {
     "name": "stdout",
     "output_type": "stream",
     "text": [
      "1\n",
      "2\n",
      "3\n",
      "(3,)\n",
      "(2, 3)\n",
      "(3, 2, 3)\n",
      "int64\n",
      "int64\n",
      "int64\n",
      "3\n",
      "6\n",
      "18\n"
     ]
    }
   ],
   "source": [
    "# dimension\n",
    "print(arr1.ndim)\n",
    "print(arr2.ndim)\n",
    "print(arr3.ndim)\n",
    "\n",
    "# shape\n",
    "print(arr1.shape)\n",
    "print(arr2.shape)\n",
    "print(arr3.shape)\n",
    "\n",
    "# data type\n",
    "print(arr1.dtype)\n",
    "print(arr2.dtype)\n",
    "print(arr3.dtype)\n",
    "\n",
    "# size\n",
    "print(arr1.size)\n",
    "print(arr2.size)\n",
    "print(arr3.size)"
   ]
  },
  {
   "cell_type": "markdown",
   "id": "0510c389-a712-41f9-a5f5-a2e81a9cf8b6",
   "metadata": {},
   "source": [
    "#### Data type"
   ]
  },
  {
   "cell_type": "code",
   "execution_count": 8,
   "id": "f85ca996-72b1-4961-b523-6dce5e7a214e",
   "metadata": {},
   "outputs": [
    {
     "name": "stdout",
     "output_type": "stream",
     "text": [
      "float64\n",
      "<U32\n",
      "<U32\n"
     ]
    }
   ],
   "source": [
    "arr = np.array([1,2,3.2])\n",
    "# upcasted to floatData\n",
    "print(arr.dtype)\n",
    "\n",
    "arr = np.array([1,1.3,'hello'])\n",
    "# upcasted to string\n",
    "print(arr.dtype)\n",
    "\n",
    "arr = np.array([1,1.3,'hello',True])\n",
    "print(arr.dtype)"
   ]
  },
  {
   "cell_type": "markdown",
   "id": "e8751112-b069-4064-bd38-70f537144888",
   "metadata": {},
   "source": [
    "### Selecting a data type for an array"
   ]
  },
  {
   "cell_type": "code",
   "execution_count": 9,
   "id": "23b0ff05-a031-45ae-8884-f5e84777917b",
   "metadata": {},
   "outputs": [
    {
     "name": "stdout",
     "output_type": "stream",
     "text": [
      "int16\n",
      "[  1   2 300]\n",
      "int32\n"
     ]
    },
    {
     "ename": "ValueError",
     "evalue": "could not convert string to float: 'hello'",
     "output_type": "error",
     "traceback": [
      "\u001b[0;31m---------------------------------------------------------------------------\u001b[0m",
      "\u001b[0;31mValueError\u001b[0m                                Traceback (most recent call last)",
      "Cell \u001b[0;32mIn[9], line 10\u001b[0m\n\u001b[1;32m      7\u001b[0m \u001b[38;5;28mprint\u001b[39m(arr\u001b[38;5;241m.\u001b[39mdtype)\n\u001b[1;32m      9\u001b[0m \u001b[38;5;66;03m# error\u001b[39;00m\n\u001b[0;32m---> 10\u001b[0m arr \u001b[38;5;241m=\u001b[39m np\u001b[38;5;241m.\u001b[39marray([\u001b[38;5;241m1\u001b[39m,\u001b[38;5;241m1.2\u001b[39m,\u001b[38;5;124m'\u001b[39m\u001b[38;5;124mhello\u001b[39m\u001b[38;5;124m'\u001b[39m,\u001b[38;5;28;01mTrue\u001b[39;00m], dtype \u001b[38;5;241m=\u001b[39m np\u001b[38;5;241m.\u001b[39mfloat64)\n\u001b[1;32m     11\u001b[0m \u001b[38;5;28mprint\u001b[39m(arr\u001b[38;5;241m.\u001b[39mdtype)\n",
      "\u001b[0;31mValueError\u001b[0m: could not convert string to float: 'hello'"
     ]
    }
   ],
   "source": [
    "arr = np.array([1,2,300], dtype = np.int16)\n",
    "print(arr.dtype)\n",
    "print(arr)\n",
    "\n",
    "# alternative way\n",
    "arr = arr.astype(np.int32)\n",
    "print(arr.dtype)\n",
    "\n",
    "# error\n",
    "arr = np.array([1,1.2,'hello',True], dtype = np.float64)\n",
    "print(arr.dtype)"
   ]
  },
  {
   "cell_type": "markdown",
   "id": "2e155058-3988-42aa-a409-b0159d4d1cf2",
   "metadata": {},
   "source": [
    "## Ndarray creation from existing data"
   ]
  },
  {
   "cell_type": "code",
   "execution_count": 10,
   "id": "166cdcbe-04a6-4abf-9d90-55395cb25ef9",
   "metadata": {},
   "outputs": [
    {
     "name": "stdout",
     "output_type": "stream",
     "text": [
      "[10 20 30 40 40]\n",
      "<class 'numpy.ndarray'>\n",
      "int32\n",
      "['10' 'True' 'Hello']\n",
      "<class 'numpy.ndarray'>\n",
      "<U21\n",
      "[[1 2 3]\n",
      " [4 5 6]]\n",
      "<class 'numpy.ndarray'>\n",
      "int64\n"
     ]
    }
   ],
   "source": [
    "# list\n",
    "\n",
    "lst = [10, 20, 30, 40, 40.5]\n",
    "arr = np.array(lst, dtype=np.int32)\n",
    "print(arr)\n",
    "print(type(arr))\n",
    "print(arr.dtype)\n",
    "\n",
    "mixed_lst = [10, True, 'Hello']\n",
    "arr = np.array(mixed_lst)\n",
    "print(arr)\n",
    "print(type(arr))\n",
    "print(arr.dtype)\n",
    "\n",
    "matrix = [\n",
    "    [1, 2, 3],\n",
    "    [4, 5, 6]\n",
    "]\n",
    "arr = np.array(matrix)\n",
    "print(arr)\n",
    "print(type(arr))\n",
    "print(arr.dtype)"
   ]
  },
  {
   "cell_type": "code",
   "execution_count": 11,
   "id": "a9e3e682-a2d3-4479-9ff8-b38ac0911fed",
   "metadata": {},
   "outputs": [
    {
     "name": "stdout",
     "output_type": "stream",
     "text": [
      "[10 20 30]\n",
      "<class 'numpy.ndarray'>\n",
      "int32\n",
      "[10 20 30]\n",
      "<class 'numpy.ndarray'>\n",
      "int16\n",
      "(3,)\n",
      "1\n"
     ]
    }
   ],
   "source": [
    "# tuple\n",
    "\n",
    "tpl = (10, 20, 30)\n",
    "arr = np.array(tpl, dtype=np.int32)\n",
    "print(arr)\n",
    "print(type(arr))\n",
    "print(arr.dtype)\n",
    "\n",
    "arr = arr.astype(np.int16)\n",
    "print(arr)\n",
    "print(type(arr))\n",
    "print(arr.dtype)\n",
    "\n",
    "print(arr.shape)\n",
    "print(arr.ndim)"
   ]
  },
  {
   "cell_type": "code",
   "execution_count": 12,
   "id": "1b154563-dc09-46f9-b2dc-ac8f1984b1a5",
   "metadata": {},
   "outputs": [
    {
     "name": "stdout",
     "output_type": "stream",
     "text": [
      "{1, 2, 3}\n",
      "<class 'numpy.ndarray'>\n",
      "object\n"
     ]
    }
   ],
   "source": [
    "# set -> directly pass make as a object\n",
    "\n",
    "st = {1, 2, 3}\n",
    "arr = np.array(st)\n",
    "print(arr)\n",
    "print(type(arr))\n",
    "print(arr.dtype)"
   ]
  },
  {
   "cell_type": "code",
   "execution_count": 13,
   "id": "5d35440a-7e94-428e-9990-48f7c3306085",
   "metadata": {},
   "outputs": [
    {
     "name": "stdout",
     "output_type": "stream",
     "text": [
      "[1 2 3]\n",
      "<class 'numpy.ndarray'>\n",
      "int64\n",
      "(3,)\n"
     ]
    }
   ],
   "source": [
    "arr = np.array(list(st))\n",
    "print(arr)\n",
    "print(type(arr))\n",
    "print(arr.dtype)\n",
    "print(arr.shape)"
   ]
  },
  {
   "cell_type": "code",
   "execution_count": 14,
   "id": "14da7a9c-55c9-4831-86ca-15bcc1cd6436",
   "metadata": {},
   "outputs": [
    {
     "name": "stdout",
     "output_type": "stream",
     "text": [
      "dict_keys(['a', 'b', 'c'])\n",
      "<class 'dict_keys'>\n",
      "dict_values([10, 20, 30])\n",
      "<class 'dict_values'>\n",
      "dict_items([('a', 10), ('b', 20), ('c', 30)])\n",
      "<class 'dict_items'>\n"
     ]
    }
   ],
   "source": [
    "# dictionary\n",
    "\n",
    "dc = {'a': 10, 'b': 20, 'c': 30}\n",
    "\n",
    "keys = dc.keys()\n",
    "values = dc.values()\n",
    "items = dc.items()\n",
    "\n",
    "print(keys)\n",
    "print(type(keys))\n",
    "\n",
    "print(values)\n",
    "print(type(values))\n",
    "\n",
    "print(items)\n",
    "print(type(items))"
   ]
  },
  {
   "cell_type": "code",
   "execution_count": 15,
   "id": "2fe2203c-3c1e-49a8-9a55-ee86ca67490f",
   "metadata": {},
   "outputs": [
    {
     "name": "stdout",
     "output_type": "stream",
     "text": [
      "['a' 'b' 'c']\n",
      "<class 'numpy.ndarray'>\n",
      "<U1\n",
      "(3,)\n",
      "1\n",
      "3\n"
     ]
    }
   ],
   "source": [
    "# keys to ndarray\n",
    "arr = np.array(list(keys))\n",
    "print(arr)\n",
    "print(type(arr))\n",
    "print(arr.dtype)\n",
    "print(arr.shape)\n",
    "print(arr.ndim)\n",
    "print(arr.size)"
   ]
  },
  {
   "cell_type": "code",
   "execution_count": 16,
   "id": "64c00100-aa98-4b89-b01c-46b678b1e5a6",
   "metadata": {},
   "outputs": [
    {
     "name": "stdout",
     "output_type": "stream",
     "text": [
      "[10 20 30]\n",
      "<class 'numpy.ndarray'>\n",
      "int64\n",
      "(3,)\n",
      "1\n",
      "3\n"
     ]
    }
   ],
   "source": [
    "# values to ndarray\n",
    "arr = np.array(list(values))\n",
    "print(arr)\n",
    "print(type(arr))\n",
    "print(arr.dtype)\n",
    "print(arr.shape)\n",
    "print(arr.ndim)\n",
    "print(arr.size)"
   ]
  },
  {
   "cell_type": "code",
   "execution_count": 17,
   "id": "c48b43ba-083d-42fd-8edf-17f242ee5d7a",
   "metadata": {},
   "outputs": [
    {
     "name": "stdout",
     "output_type": "stream",
     "text": [
      "[['a' '10']\n",
      " ['b' '20']\n",
      " ['c' '30']]\n",
      "<class 'numpy.ndarray'>\n",
      "<U21\n",
      "(3, 2)\n",
      "2\n",
      "6\n"
     ]
    }
   ],
   "source": [
    "# items to ndarray\n",
    "arr = np.array(list(items))\n",
    "print(arr)\n",
    "print(type(arr))\n",
    "print(arr.dtype)\n",
    "print(arr.shape)\n",
    "print(arr.ndim)\n",
    "print(arr.size)"
   ]
  },
  {
   "cell_type": "markdown",
   "id": "c19ad51c-5916-4b08-9967-3a7c8660dee5",
   "metadata": {},
   "source": [
    "## Creating ndarray from scratch"
   ]
  },
  {
   "cell_type": "code",
   "execution_count": 18,
   "id": "a0f54594-b31d-41ae-a780-74147c149cf4",
   "metadata": {},
   "outputs": [
    {
     "name": "stdout",
     "output_type": "stream",
     "text": [
      "[0. 0. 0.]\n",
      "[0 0 0]\n",
      "[[0 0 0]\n",
      " [0 0 0]]\n",
      "<class 'numpy.ndarray'>\n",
      "int8\n",
      "(2, 3)\n",
      "2\n",
      "6\n",
      "[[[0 0 0]\n",
      "  [0 0 0]]\n",
      "\n",
      " [[0 0 0]\n",
      "  [0 0 0]]\n",
      "\n",
      " [[0 0 0]\n",
      "  [0 0 0]]]\n",
      "(3, 2, 3)\n"
     ]
    }
   ],
   "source": [
    "# np.zeros\n",
    "\n",
    "arr = np.zeros(3)\n",
    "print(arr)\n",
    "\n",
    "arr = np.zeros(3, dtype=np.int16)\n",
    "print(arr)\n",
    "\n",
    "arr = np.zeros((2, 3), dtype=np.int8)\n",
    "print(arr)\n",
    "print(type(arr))\n",
    "print(arr.dtype)\n",
    "print(arr.shape)\n",
    "print(arr.ndim)\n",
    "print(arr.size)\n",
    "\n",
    "arr = np.zeros_like(arr3)\n",
    "print(arr)\n",
    "print(arr.shape)"
   ]
  },
  {
   "cell_type": "code",
   "execution_count": 19,
   "id": "88fc565a-67ad-44ff-b2e8-3ba3b71e3b85",
   "metadata": {},
   "outputs": [
    {
     "name": "stdout",
     "output_type": "stream",
     "text": [
      "[[1 1 1]\n",
      " [1 1 1]]\n",
      "<class 'numpy.ndarray'>\n",
      "int8\n",
      "(2, 3)\n",
      "2\n",
      "6\n",
      "[[[1 1 1]\n",
      "  [1 1 1]]\n",
      "\n",
      " [[1 1 1]\n",
      "  [1 1 1]]\n",
      "\n",
      " [[1 1 1]\n",
      "  [1 1 1]]]\n",
      "(3, 2, 3)\n"
     ]
    }
   ],
   "source": [
    "# np.ones\n",
    "\n",
    "arr = np.ones((2, 3), dtype=np.int8)\n",
    "print(arr)\n",
    "print(type(arr))\n",
    "print(arr.dtype)\n",
    "print(arr.shape)\n",
    "print(arr.ndim)\n",
    "print(arr.size)\n",
    "\n",
    "arr = np.ones_like(arr3)\n",
    "print(arr)\n",
    "print(arr.shape)"
   ]
  },
  {
   "cell_type": "code",
   "execution_count": 20,
   "id": "fbb13544-0d32-4510-9c7a-ca3b9eba3e3c",
   "metadata": {},
   "outputs": [
    {
     "name": "stdout",
     "output_type": "stream",
     "text": [
      "[[1 1 1]\n",
      " [1 1 1]]\n",
      "<class 'numpy.ndarray'>\n",
      "int8\n",
      "(2, 3)\n",
      "2\n",
      "6\n",
      "[[[1 1 1]\n",
      "  [1 1 1]]\n",
      "\n",
      " [[1 1 1]\n",
      "  [1 1 1]]\n",
      "\n",
      " [[1 1 1]\n",
      "  [1 1 1]]]\n",
      "(3, 2, 3)\n"
     ]
    }
   ],
   "source": [
    "# np.empty -> random value\n",
    "\n",
    "arr = np.empty((2, 3), dtype=np.int8)\n",
    "print(arr)\n",
    "print(type(arr))\n",
    "print(arr.dtype)\n",
    "print(arr.shape)\n",
    "print(arr.ndim)\n",
    "print(arr.size)\n",
    "\n",
    "arr = np.empty_like(arr3)\n",
    "print(arr)\n",
    "print(arr.shape)"
   ]
  },
  {
   "cell_type": "code",
   "execution_count": 21,
   "id": "0012652a-995b-4016-8c40-a8772ebab989",
   "metadata": {},
   "outputs": [
    {
     "name": "stdout",
     "output_type": "stream",
     "text": [
      "[[inf inf inf]\n",
      " [inf inf inf]]\n",
      "<class 'numpy.ndarray'>\n",
      "float64\n",
      "(2, 3)\n",
      "2\n",
      "6\n",
      "[[[20. 20. 20.]\n",
      "  [20. 20. 20.]]\n",
      "\n",
      " [[20. 20. 20.]\n",
      "  [20. 20. 20.]]\n",
      "\n",
      " [[20. 20. 20.]\n",
      "  [20. 20. 20.]]]\n",
      "(3, 2, 3)\n"
     ]
    }
   ],
   "source": [
    "# np.full\n",
    "\n",
    "arr = np.full((2, 3), np.inf)\n",
    "print(arr)\n",
    "print(type(arr))\n",
    "print(arr.dtype)\n",
    "print(arr.shape)\n",
    "print(arr.ndim)\n",
    "print(arr.size)\n",
    "\n",
    "arr = np.full_like(arr3, 20, dtype=np.float32)\n",
    "print(arr)\n",
    "print(arr.shape)"
   ]
  },
  {
   "cell_type": "markdown",
   "id": "293c5416-a6b2-49cb-bc01-e291713bf14c",
   "metadata": {},
   "source": [
    "## Array creation with random values"
   ]
  },
  {
   "cell_type": "code",
   "execution_count": 22,
   "id": "fe8db3df-0871-4c18-9fef-b1a0450d1c2b",
   "metadata": {},
   "outputs": [
    {
     "name": "stdout",
     "output_type": "stream",
     "text": [
      "[[0.11922713 0.2641116  0.09961173]\n",
      " [0.98515186 0.91217977 0.62306934]]\n",
      "<class 'numpy.ndarray'>\n",
      "float64\n",
      "(2, 3)\n",
      "2\n",
      "6\n"
     ]
    }
   ],
   "source": [
    "# np.random.rand(shape) : 0->1\n",
    "\n",
    "arr = np.random.rand(2, 3)\n",
    "print(arr)\n",
    "print(type(arr))\n",
    "print(arr.dtype)\n",
    "print(arr.shape)\n",
    "print(arr.ndim)\n",
    "print(arr.size)"
   ]
  },
  {
   "cell_type": "code",
   "execution_count": 23,
   "id": "db84816b-06dc-437a-9d6f-b728d1ee5ddb",
   "metadata": {},
   "outputs": [
    {
     "name": "stdout",
     "output_type": "stream",
     "text": [
      "[[5 5 1]\n",
      " [2 7 9]]\n",
      "<class 'numpy.ndarray'>\n",
      "int64\n",
      "(2, 3)\n",
      "2\n",
      "6\n"
     ]
    }
   ],
   "source": [
    "# np.random.randint(start, end, shape)\n",
    "\n",
    "arr = np.random.randint(1, 10, (2, 3))\n",
    "print(arr)\n",
    "print(type(arr))\n",
    "print(arr.dtype)\n",
    "print(arr.shape)\n",
    "print(arr.ndim)\n",
    "print(arr.size)"
   ]
  },
  {
   "cell_type": "code",
   "execution_count": 24,
   "id": "157fd7a0-8af4-4c18-ac21-31d9e197c51c",
   "metadata": {},
   "outputs": [
    {
     "name": "stdout",
     "output_type": "stream",
     "text": [
      "[[3.59383549 2.72139036 8.93121172]\n",
      " [8.01594871 9.76276509 3.39582791]]\n",
      "<class 'numpy.ndarray'>\n",
      "float64\n",
      "(2, 3)\n",
      "2\n",
      "6\n"
     ]
    }
   ],
   "source": [
    "# np.random.uniform(start, end, shape)\n",
    "\n",
    "arr = np.random.uniform(1, 10, (2, 3))\n",
    "print(arr)\n",
    "print(type(arr))\n",
    "print(arr.dtype)\n",
    "print(arr.shape)\n",
    "print(arr.ndim)\n",
    "print(arr.size)"
   ]
  },
  {
   "cell_type": "markdown",
   "id": "c37c2f11-1fc1-489f-be35-ff4bc8701acb",
   "metadata": {},
   "source": [
    "### Array creation with range functions"
   ]
  },
  {
   "cell_type": "code",
   "execution_count": 25,
   "id": "56fde5a3-7825-41c7-a1a6-32ab329cb625",
   "metadata": {},
   "outputs": [
    {
     "name": "stdout",
     "output_type": "stream",
     "text": [
      "[1 2 3 4 5 6 7 8 9]\n"
     ]
    },
    {
     "ename": "ValueError",
     "evalue": "cannot reshape array of size 9 into shape (3,2)",
     "output_type": "error",
     "traceback": [
      "\u001b[0;31m---------------------------------------------------------------------------\u001b[0m",
      "\u001b[0;31mValueError\u001b[0m                                Traceback (most recent call last)",
      "Cell \u001b[0;32mIn[25], line 6\u001b[0m\n\u001b[1;32m      3\u001b[0m arr \u001b[38;5;241m=\u001b[39m np\u001b[38;5;241m.\u001b[39marange(\u001b[38;5;241m1\u001b[39m, \u001b[38;5;241m10\u001b[39m, \u001b[38;5;241m1\u001b[39m)\n\u001b[1;32m      4\u001b[0m \u001b[38;5;28mprint\u001b[39m(arr)\n\u001b[0;32m----> 6\u001b[0m mat \u001b[38;5;241m=\u001b[39m arr\u001b[38;5;241m.\u001b[39mreshape(\u001b[38;5;241m3\u001b[39m, \u001b[38;5;241m2\u001b[39m)\n\u001b[1;32m      7\u001b[0m \u001b[38;5;28mprint\u001b[39m(mat)\n\u001b[1;32m      8\u001b[0m \u001b[38;5;28mprint\u001b[39m(\u001b[38;5;28mtype\u001b[39m(mat))\n",
      "\u001b[0;31mValueError\u001b[0m: cannot reshape array of size 9 into shape (3,2)"
     ]
    }
   ],
   "source": [
    "# np.arange(first, end, step) -> similar to range function\n",
    "\n",
    "arr = np.arange(1, 10, 1)\n",
    "print(arr)\n",
    "\n",
    "mat = arr.reshape(3, 2)\n",
    "print(mat)\n",
    "print(type(mat))\n",
    "print(mat.dtype)\n",
    "print(mat.shape)\n",
    "print(mat.ndim)\n",
    "print(mat.size)"
   ]
  },
  {
   "cell_type": "code",
   "execution_count": 26,
   "id": "301d7ecc-b355-49bd-90e6-8f0ba37e1e74",
   "metadata": {},
   "outputs": [
    {
     "name": "stdout",
     "output_type": "stream",
     "text": [
      "[[1 2 3]\n",
      " [4 5 6]\n",
      " [7 8 9]]\n",
      "<class 'numpy.ndarray'>\n",
      "int64\n",
      "(3, 3)\n",
      "2\n",
      "9\n"
     ]
    }
   ],
   "source": [
    "mat = arr.reshape(3, 3)\n",
    "print(mat)\n",
    "print(type(mat))\n",
    "print(mat.dtype)\n",
    "print(mat.shape)\n",
    "print(mat.ndim)\n",
    "print(mat.size)"
   ]
  },
  {
   "cell_type": "code",
   "execution_count": 27,
   "id": "1e172268-57b1-4f05-b5ac-70dc4c494883",
   "metadata": {},
   "outputs": [
    {
     "name": "stdout",
     "output_type": "stream",
     "text": [
      "[0.  0.8 1.6 2.4 3.2 4. ]\n",
      "<class 'numpy.ndarray'>\n",
      "float64\n",
      "(6,)\n",
      "1\n",
      "6\n"
     ]
    }
   ],
   "source": [
    "# np.linspace(start, end(included), how much)\n",
    "\n",
    "arr = np.linspace(0, 4, 6)\n",
    "print(arr)\n",
    "print(type(arr))\n",
    "print(arr.dtype)\n",
    "print(arr.shape)\n",
    "print(arr.ndim)\n",
    "print(arr.size)"
   ]
  },
  {
   "cell_type": "code",
   "execution_count": 28,
   "id": "f424db69-ba91-4bbe-b269-92aaac799fa7",
   "metadata": {},
   "outputs": [
    {
     "name": "stdout",
     "output_type": "stream",
     "text": [
      "[1.00000000e+00 6.30957344e+00 3.98107171e+01 2.51188643e+02\n",
      " 1.58489319e+03 1.00000000e+04]\n",
      "<class 'numpy.ndarray'>\n",
      "float64\n",
      "(6,)\n",
      "1\n",
      "6\n"
     ]
    }
   ],
   "source": [
    "# np.logspace(start, end(included), how much)\n",
    "\n",
    "arr = np.logspace(0, 4, 6)\n",
    "print(arr)\n",
    "print(type(arr))\n",
    "print(arr.dtype)\n",
    "print(arr.shape)\n",
    "print(arr.ndim)\n",
    "print(arr.size)"
   ]
  },
  {
   "cell_type": "code",
   "execution_count": 29,
   "id": "8def2c7c-b3a2-4441-b27e-1078b24c27ba",
   "metadata": {},
   "outputs": [
    {
     "name": "stdout",
     "output_type": "stream",
     "text": [
      "[ 1.          1.74110113  3.03143313  5.27803164  9.18958684 16.        ]\n",
      "<class 'numpy.ndarray'>\n",
      "float64\n",
      "(6,)\n",
      "1\n",
      "6\n"
     ]
    }
   ],
   "source": [
    "arr = np.logspace(0, 4, 6, base=2)\n",
    "print(arr)\n",
    "print(type(arr))\n",
    "print(arr.dtype)\n",
    "print(arr.shape)\n",
    "print(arr.ndim)\n",
    "print(arr.size)"
   ]
  },
  {
   "cell_type": "markdown",
   "id": "a7258f45-0054-4d3e-9732-87b0e4c0c768",
   "metadata": {},
   "source": [
    "## Creating matrix for linear algebra"
   ]
  },
  {
   "cell_type": "code",
   "execution_count": 30,
   "id": "119303a4-5b21-475a-b173-16bc9526fdbe",
   "metadata": {},
   "outputs": [
    {
     "name": "stdout",
     "output_type": "stream",
     "text": [
      "[[1 0 0 0]\n",
      " [0 2 0 0]\n",
      " [0 0 3 0]\n",
      " [0 0 0 4]]\n",
      "(4, 4)\n",
      "[[0 1 0 0 0]\n",
      " [0 0 2 0 0]\n",
      " [0 0 0 3 0]\n",
      " [0 0 0 0 4]\n",
      " [0 0 0 0 0]]\n",
      "(5, 5)\n"
     ]
    }
   ],
   "source": [
    "# diagonal matrix\n",
    "\n",
    "diagonal_matrix = np.diag([1, 2, 3, 4])\n",
    "print(diagonal_matrix)\n",
    "print(diagonal_matrix.shape)\n",
    "\n",
    "diagonal_matrix = np.diag([1, 2, 3, 4], 1)\n",
    "print(diagonal_matrix)\n",
    "print(diagonal_matrix.shape)"
   ]
  },
  {
   "cell_type": "code",
   "execution_count": 31,
   "id": "f4882331-90de-4ea4-a871-a490e0b5f26b",
   "metadata": {},
   "outputs": [
    {
     "name": "stdout",
     "output_type": "stream",
     "text": [
      "[[1. 0. 0. 0.]\n",
      " [0. 1. 0. 0.]\n",
      " [0. 0. 1. 0.]\n",
      " [0. 0. 0. 1.]]\n",
      "(4, 4)\n",
      "[[1. 0. 0. 0. 0.]\n",
      " [0. 1. 0. 0. 0.]\n",
      " [0. 0. 1. 0. 0.]\n",
      " [0. 0. 0. 1. 0.]]\n",
      "(4, 5)\n",
      "[[0. 0. 0. 0. 0.]\n",
      " [1. 0. 0. 0. 0.]\n",
      " [0. 1. 0. 0. 0.]\n",
      " [0. 0. 1. 0. 0.]]\n",
      "(4, 5)\n"
     ]
    }
   ],
   "source": [
    "# Identity matrix\n",
    "\n",
    "identity_mat = np.eye(4)\n",
    "print(identity_mat)\n",
    "print(identity_mat.shape)\n",
    "\n",
    "identity_mat = np.eye(4, 5)  # row, col\n",
    "print(identity_mat)\n",
    "print(identity_mat.shape)\n",
    "\n",
    "identity_mat = np.eye(4, 5, -1)  # row, col, k\n",
    "print(identity_mat)\n",
    "print(identity_mat.shape)"
   ]
  },
  {
   "cell_type": "markdown",
   "id": "8922e467-6f65-4f18-b042-b17cb9105ba9",
   "metadata": {},
   "source": [
    "## Indexing & Slicing"
   ]
  },
  {
   "cell_type": "code",
   "execution_count": 32,
   "id": "fd0b16f7-cb26-4727-a563-64def4196877",
   "metadata": {},
   "outputs": [
    {
     "name": "stdout",
     "output_type": "stream",
     "text": [
      "[2 6 7]\n",
      "[[1 2 3]\n",
      " [4 5 6]]\n",
      "[  2   6 100]\n",
      "[[  1 200   3]\n",
      " [  4   5   6]]\n"
     ]
    }
   ],
   "source": [
    "# indexing\n",
    "\n",
    "print(arr1)\n",
    "print(arr2)\n",
    "\n",
    "arr1[2] = 100\n",
    "print(arr1)\n",
    "\n",
    "arr2[0, 1] = 200\n",
    "print(arr2)"
   ]
  },
  {
   "cell_type": "code",
   "execution_count": 33,
   "id": "493abf55-efb4-41fb-a2f2-4bda42caa858",
   "metadata": {},
   "outputs": [
    {
     "name": "stdout",
     "output_type": "stream",
     "text": [
      "[1 2 3 4 5 6 7]\n",
      "[1 2 3 4 5 6 7]\n",
      "[1 3 5 7]\n",
      "[  1   2 100   4   5   6   7]\n",
      "[  1 100   5   7]\n",
      "[1 2 3 4 5 6 7]\n",
      "[1 3 5 7]\n",
      "[1 3 5 7]\n"
     ]
    }
   ],
   "source": [
    "# slicing\n",
    "\n",
    "arr1 = np.array([1, 2, 3, 4, 5, 6, 7])\n",
    "print(arr1)\n",
    "\n",
    "mod_arr1 = arr1[0: 7: 2]  # start: end: step\n",
    "print(arr1)\n",
    "print(mod_arr1)\n",
    "\n",
    "arr1[2] = 100\n",
    "print(arr1)\n",
    "print(mod_arr1)  # automaticly change \n",
    "\n",
    "arr1 = np.array([1, 2, 3, 4, 5, 6, 7])\n",
    "mod_arr1 = arr1[0: 7: 2].copy()  # start: end: step\n",
    "print(arr1)\n",
    "print(mod_arr1)\n",
    "arr1[2] = 100\n",
    "print(mod_arr1)"
   ]
  },
  {
   "cell_type": "code",
   "execution_count": 34,
   "id": "19a2597a-78b0-4670-95bf-db21634a3a72",
   "metadata": {},
   "outputs": [
    {
     "name": "stdout",
     "output_type": "stream",
     "text": [
      "[[  1 200   3]\n",
      " [  4   5   6]]\n",
      "[[  1 200   3]]\n",
      "[[  1 200   3]]\n",
      "[[1 2 3]]\n",
      "[[1 2 3]\n",
      " [4 5 6]]\n",
      "[[1]\n",
      " [4]]\n",
      "[[2]\n",
      " [5]]\n",
      "[[2 3]\n",
      " [5 6]]\n"
     ]
    }
   ],
   "source": [
    "# 2D slicing\n",
    "# arr[row_start: row_end: step, col_start: col_end: step]  -> end(excluded)\n",
    "\n",
    "print(arr2)\n",
    "\n",
    "# getting a row\n",
    "row_0 = arr2[0:1,]\n",
    "print(row_0)\n",
    "\n",
    "row_0 = arr2[:1,]\n",
    "print(row_0)\n",
    "\n",
    "arr2[0][1] = 2\n",
    "print(row_0)\n",
    "\n",
    "print(arr2)\n",
    "\n",
    "# getting a column\n",
    "col_0 = arr2[:, :1]\n",
    "print(col_0)\n",
    "col_1 = arr2[::, 1:2]\n",
    "print(col_1)\n",
    "col_1 = arr2[::, 1:]\n",
    "print(col_1)"
   ]
  },
  {
   "cell_type": "code",
   "execution_count": 35,
   "id": "4dd1ef71-41a1-4345-a80f-cfa3b2cccc23",
   "metadata": {},
   "outputs": [
    {
     "name": "stdout",
     "output_type": "stream",
     "text": [
      "[[1 2 3]\n",
      " [4 5 6]]\n",
      "[[1 2]\n",
      " [4 5]]\n"
     ]
    }
   ],
   "source": [
    "# getting a portion\n",
    "\n",
    "print(arr2)\n",
    "\n",
    "portion = arr2[::, 0:2]\n",
    "print(portion)"
   ]
  },
  {
   "cell_type": "markdown",
   "id": "b477dd05-78e4-4bb0-b219-4f1f690b50df",
   "metadata": {},
   "source": [
    "## Advanced Indexing"
   ]
  },
  {
   "cell_type": "code",
   "execution_count": 36,
   "id": "529b594a-3214-4c35-b074-2eaa2937c4d8",
   "metadata": {},
   "outputs": [
    {
     "name": "stdout",
     "output_type": "stream",
     "text": [
      "[10 20 30 40]\n",
      "[10 40 20]\n"
     ]
    }
   ],
   "source": [
    "arr = np.array([10, 20, 30, 40])\n",
    "print(arr)\n",
    "\n",
    "values = arr[[0, 3, 1]]\n",
    "print(values)"
   ]
  },
  {
   "cell_type": "code",
   "execution_count": 37,
   "id": "f0a0b3a8-e281-4fcb-804c-f3dac9b42b4c",
   "metadata": {},
   "outputs": [
    {
     "name": "stdout",
     "output_type": "stream",
     "text": [
      "[[1 2 3]\n",
      " [4 5 6]]\n",
      "[2 6]\n",
      "[1 2 3 4 5 6]\n",
      "[False  True  True  True  True  True]\n",
      "[[1 2 3]\n",
      " [4 5 6]]\n"
     ]
    },
    {
     "ename": "IndexError",
     "evalue": "boolean index did not match indexed array along axis 0; size of axis is 2 but size of corresponding boolean axis is 6",
     "output_type": "error",
     "traceback": [
      "\u001b[0;31m---------------------------------------------------------------------------\u001b[0m",
      "\u001b[0;31mIndexError\u001b[0m                                Traceback (most recent call last)",
      "Cell \u001b[0;32mIn[37], line 10\u001b[0m\n\u001b[1;32m      8\u001b[0m \u001b[38;5;28mprint\u001b[39m(arr1 \u001b[38;5;241m>\u001b[39m \u001b[38;5;241m1\u001b[39m)\n\u001b[1;32m      9\u001b[0m \u001b[38;5;28mprint\u001b[39m(arr2)\n\u001b[0;32m---> 10\u001b[0m \u001b[38;5;28mprint\u001b[39m(arr2[arr1 \u001b[38;5;241m>\u001b[39m \u001b[38;5;241m1\u001b[39m])\n",
      "\u001b[0;31mIndexError\u001b[0m: boolean index did not match indexed array along axis 0; size of axis is 2 but size of corresponding boolean axis is 6"
     ]
    }
   ],
   "source": [
    "print(arr2)\n",
    "\n",
    "print(arr2[[0, 1], [1, 2]])\n",
    "\n",
    "# using something boolean\n",
    "arr1 = np.array([1, 2, 3, 4, 5, 6])\n",
    "print(arr1)\n",
    "print(arr1 > 1)\n",
    "print(arr2)\n",
    "print(arr2[arr1 > 1])"
   ]
  },
  {
   "cell_type": "code",
   "execution_count": 38,
   "id": "20d248ea-9ae6-4af9-959c-2180e6573202",
   "metadata": {},
   "outputs": [
    {
     "name": "stdout",
     "output_type": "stream",
     "text": [
      "[[1 2 3]\n",
      " [4 5 6]]\n",
      "[[False  True  True]\n",
      " [ True  True  True]]\n",
      "[[1 2 3]\n",
      " [4 5 6]]\n",
      "[2 3 4 5 6]\n"
     ]
    }
   ],
   "source": [
    "# using something boolean\n",
    "arr1 = np.array([[1, 2, 3], [4, 5, 6]])\n",
    "print(arr1)\n",
    "print(arr1 > 1)\n",
    "print(arr2)\n",
    "print(arr2[arr1 > 1])"
   ]
  },
  {
   "cell_type": "code",
   "execution_count": 39,
   "id": "0c5bb140-b579-4410-83aa-89255b5aae57",
   "metadata": {},
   "outputs": [
    {
     "name": "stdout",
     "output_type": "stream",
     "text": [
      "[[1 2 3]\n",
      " [4 5 6]]\n",
      "[[1 2 0]\n",
      " [0 0 0]]\n"
     ]
    }
   ],
   "source": [
    "print(arr2)\n",
    "\n",
    "arr2[arr2 > 2] = 0\n",
    "print(arr2)"
   ]
  },
  {
   "cell_type": "markdown",
   "id": "e6533dcd-3f38-4571-80a9-9a7c11060c9a",
   "metadata": {},
   "source": [
    "### Iterating over arrays"
   ]
  },
  {
   "cell_type": "code",
   "execution_count": 40,
   "id": "14add45d-fdeb-4095-ad37-410bab717177",
   "metadata": {},
   "outputs": [
    {
     "name": "stdout",
     "output_type": "stream",
     "text": [
      "[[[ 1  2  3]\n",
      "  [ 4  5  6]]\n",
      "\n",
      " [[ 7  8  9]\n",
      "  [10 11 12]]]\n"
     ]
    }
   ],
   "source": [
    "arr3 = np.array([\n",
    "    [\n",
    "        [1, 2, 3],\n",
    "        [4, 5, 6]\n",
    "    ],\n",
    "    [\n",
    "        [7, 8, 9],\n",
    "        [10, 11, 12]\n",
    "    ]\n",
    "])\n",
    "print(arr3)"
   ]
  },
  {
   "cell_type": "code",
   "execution_count": 41,
   "id": "46ffb8fd-cf61-469d-9b23-0ba25eb0fdd4",
   "metadata": {},
   "outputs": [
    {
     "name": "stdout",
     "output_type": "stream",
     "text": [
      "1\n",
      "2\n",
      "3\n",
      "4\n",
      "5\n",
      "6\n",
      "7\n",
      "8\n",
      "9\n",
      "10\n",
      "11\n",
      "12\n"
     ]
    }
   ],
   "source": [
    "# For a 3D array\n",
    "for matrix in arr3:\n",
    "    for row in matrix:\n",
    "        for element in row:\n",
    "            print(element)"
   ]
  },
  {
   "cell_type": "code",
   "execution_count": 42,
   "id": "7b67685c-4840-4fcd-9677-3feb8e9f3539",
   "metadata": {},
   "outputs": [
    {
     "name": "stdout",
     "output_type": "stream",
     "text": [
      "1\n",
      "2\n",
      "3\n",
      "4\n",
      "5\n",
      "6\n",
      "7\n",
      "8\n",
      "9\n",
      "10\n",
      "11\n",
      "12\n"
     ]
    }
   ],
   "source": [
    "for i in np.nditer(arr3):\n",
    "    print(i)"
   ]
  },
  {
   "cell_type": "markdown",
   "id": "385ca99c-c0b3-4853-8d19-359215e8d228",
   "metadata": {},
   "source": [
    "### Practice Problems"
   ]
  },
  {
   "cell_type": "markdown",
   "id": "5d742492-62c3-48ee-ac8a-519bc2aa21e0",
   "metadata": {},
   "source": [
    "1: You have a list of temperatures recorded in Celsius.\n",
    "   \n",
    "Your task is to:\\\n",
    "Create a NumPy array from the given list.\\\n",
    "Convert all temperatures from Celsius to Fahrenheit. The formula is F = C* 1.8 + 32.\\\n",
    "Print the new Fahrenheit array.\n"
   ]
  },
  {
   "cell_type": "code",
   "execution_count": 43,
   "id": "f34bd51a-009a-476f-903b-acb3f7e0c3ac",
   "metadata": {},
   "outputs": [
    {
     "name": "stdout",
     "output_type": "stream",
     "text": [
      "[20 21 23 15 10 35 40 52 28 19]\n",
      "[ 68.   69.8  73.4  59.   50.   95.  104.  125.6  82.4  66.2]\n"
     ]
    }
   ],
   "source": [
    "given_temp = [20, 21, 23, 15, 10, 35, 40, 52, 28, 19]\n",
    "temp = np.array(given_temp)\n",
    "print(temp)\n",
    "\n",
    "temp = temp*1.8+32\n",
    "print(temp)"
   ]
  },
  {
   "cell_type": "markdown",
   "id": "220061f2-9614-4c07-ab64-8d69ee7841e1",
   "metadata": {},
   "source": [
    "2:  You have a Python list containing the lap times (in seconds) for an athlete.\\\n",
    "Task:\n",
    "\n",
    "Convert the list into a NumPy array.\\\n",
    "Print the array's shape, size, and data type.\\\n",
    "The athlete wants to see their times in minutes. Create a new array by dividing all the lap times by 60.\\\n",
    "Print the new array of lap times in minutes."
   ]
  },
  {
   "cell_type": "code",
   "execution_count": 44,
   "id": "f80ed2da-44a6-4ec9-9a4b-10a729c7bfec",
   "metadata": {},
   "outputs": [
    {
     "name": "stdout",
     "output_type": "stream",
     "text": [
      "(5,)\n",
      "5\n",
      "int64\n"
     ]
    }
   ],
   "source": [
    "lst = [10, 20, 30, 40, 50]\n",
    "arr = np.array(lst)\n",
    "print(arr.shape)\n",
    "print(arr.size)\n",
    "print(arr.dtype)"
   ]
  },
  {
   "cell_type": "code",
   "execution_count": 45,
   "id": "3a7f3d97-0175-4d11-815b-aefba577df72",
   "metadata": {},
   "outputs": [
    {
     "name": "stdout",
     "output_type": "stream",
     "text": [
      "[  33 1314 1483   74 7388  390]\n"
     ]
    }
   ],
   "source": [
    "lap_time = np.array([2000, 78899, 88999, 4444, 443323, 23444])  # given in seconds\n",
    "lap_time = lap_time//60  # convert to minutes\n",
    "print(lap_time)"
   ]
  },
  {
   "cell_type": "markdown",
   "id": "98c29797-4a20-4606-84e9-5d7e8933ab8d",
   "metadata": {},
   "source": [
    "## Data Analysis With Numpy Part-02"
   ]
  },
  {
   "cell_type": "code",
   "execution_count": 46,
   "id": "3f478580-10a3-4b2e-a9ee-649355194e12",
   "metadata": {},
   "outputs": [
    {
     "name": "stdout",
     "output_type": "stream",
     "text": [
      "[[44 80 70 53 90]\n",
      " [41 88 16 41  2]\n",
      " [29 76 74 95 77]\n",
      " [12 25 71 76  1]\n",
      " [ 6 86 83 56 89]\n",
      " [29 18 59 47 69]\n",
      " [75 78 55 70 64]\n",
      " [81 41 41 63  5]\n",
      " [29 90 41 23 32]\n",
      " [50 83 89 38 75]]\n"
     ]
    }
   ],
   "source": [
    "arr = np.random.randint(1, 100, size=(10,5))\n",
    "print(arr)"
   ]
  },
  {
   "cell_type": "code",
   "execution_count": 51,
   "id": "240e575f-2dcf-4f0c-b3d1-c7a943b702a5",
   "metadata": {},
   "outputs": [
    {
     "name": "stdout",
     "output_type": "stream",
     "text": [
      "[[44 80 70 53 90 41 88 16 41  2]\n",
      " [29 76 74 95 77 12 25 71 76  1]\n",
      " [ 6 86 83 56 89 29 18 59 47 69]\n",
      " [75 78 55 70 64 81 41 41 63  5]\n",
      " [29 90 41 23 32 50 83 89 38 75]]\n"
     ]
    }
   ],
   "source": [
    "arr.shape\n",
    "\n",
    "# reshape()\n",
    "\n",
    "b = arr.reshape(5, 10)\n",
    "print(b)"
   ]
  },
  {
   "cell_type": "code",
   "execution_count": 57,
   "id": "7291e1d6-dda4-480d-936a-2a2f53d58bef",
   "metadata": {},
   "outputs": [
    {
     "name": "stdout",
     "output_type": "stream",
     "text": [
      "[[44 80 70 53 90 41 88 16 41  2]\n",
      " [29 76 74 95 77 12 25 71 76  1]\n",
      " [ 6 86 83 56 89 29 18 59 47 69]\n",
      " [75 78 55 70 64 81 41 41 63  5]\n",
      " [29 90 41 23 32 50 83 89 38 75]]\n",
      "[44 80 70 53 90 41 88 16 41  2 29 76 74 95 77 12 25 71 76  1  6 86 83 56\n",
      " 89 29 18 59 47 69 75 78 55 70 64 81 41 41 63  5 29 90 41 23 32 50 83 89\n",
      " 38 75]\n",
      "1\n",
      "[44 80 70 53 90 41 88 16 41  2 29 76 74 95 77 12 25 71 76  1  6 86 83 56\n",
      " 89 29 18 59 47 69 75 78 55 70 64 81 41 41 63  5 29 90 41 23 32 50 83 89\n",
      " 38 75]\n",
      "[44 29  6 75 29 80 76 86 78 90 70 74 83 55 41 53 95 56 70 23 90 77 89 64\n",
      " 32 41 12 29 81 50 88 25 18 41 83 16 71 59 41 89 41 76 47 63 38  2  1 69\n",
      "  5 75]\n"
     ]
    }
   ],
   "source": [
    "# flattening\n",
    "print(b)\n",
    "\n",
    "flatten = b.flatten()  # default by row-wise\n",
    "print(flatten)\n",
    "print(flatten.ndim)\n",
    "\n",
    "col_wise_flatten = np.ravel(b, order='C')  # row major\n",
    "print(col_wise_flatten)\n",
    "\n",
    "col_wise_flatten = np.ravel(b, order='F')  # col major\n",
    "print(col_wise_flatten)"
   ]
  },
  {
   "cell_type": "code",
   "execution_count": 102,
   "id": "aee15bed-1b3a-41fb-888e-ea293869a981",
   "metadata": {},
   "outputs": [
    {
     "name": "stdout",
     "output_type": "stream",
     "text": [
      "[[4 1 2]\n",
      " [2 2 8]]\n",
      "[[29 21 27]\n",
      " [29 29 20]]\n"
     ]
    }
   ],
   "source": [
    "a = np.random.randint(1, 10, size=(2, 3))\n",
    "b = np.random.randint(20, 30, size=(2, 3))\n",
    "\n",
    "print(a)\n",
    "print(b)"
   ]
  },
  {
   "cell_type": "markdown",
   "id": "f5101e57-45a5-4360-9f3c-f9419d0606be",
   "metadata": {},
   "source": [
    "## Concatenate"
   ]
  },
  {
   "cell_type": "code",
   "execution_count": 104,
   "id": "559131c4-9f9b-42ca-9a1a-8b8661293a76",
   "metadata": {},
   "outputs": [
    {
     "name": "stdout",
     "output_type": "stream",
     "text": [
      "[[ 4  1  2]\n",
      " [ 2  2  8]\n",
      " [29 21 27]\n",
      " [29 29 20]]\n",
      "[[ 4  1  2 29 21 27]\n",
      " [ 2  2  8 29 29 20]]\n"
     ]
    }
   ],
   "source": [
    "con_row = np.concatenate((a, b), axis=0)  # row-wise\n",
    "print(con_row)\n",
    "\n",
    "con_col = np.concatenate((a, b), axis=1)  # col-wise\n",
    "print(con_col)"
   ]
  },
  {
   "cell_type": "code",
   "execution_count": 107,
   "id": "c3744641-c999-438e-859e-a4427f8db2fd",
   "metadata": {},
   "outputs": [
    {
     "name": "stdout",
     "output_type": "stream",
     "text": [
      "[[3 5 9]\n",
      " [6 3 3]]\n",
      "[[23 29 20 26]\n",
      " [28 20 25 23]]\n",
      "[[ 3  5  9 23 29 20 26]\n",
      " [ 6  3  3 28 20 25 23]]\n"
     ]
    },
    {
     "ename": "ValueError",
     "evalue": "all the input array dimensions except for the concatenation axis must match exactly, but along dimension 1, the array at index 0 has size 3 and the array at index 1 has size 4",
     "output_type": "error",
     "traceback": [
      "\u001b[0;31m---------------------------------------------------------------------------\u001b[0m",
      "\u001b[0;31mValueError\u001b[0m                                Traceback (most recent call last)",
      "Cell \u001b[0;32mIn[107], line 15\u001b[0m\n\u001b[1;32m     12\u001b[0m r2 \u001b[38;5;241m=\u001b[39m np\u001b[38;5;241m.\u001b[39mconcatenate((x, y), axis\u001b[38;5;241m=\u001b[39m\u001b[38;5;241m1\u001b[39m)\n\u001b[1;32m     13\u001b[0m \u001b[38;5;28mprint\u001b[39m(r2)\n\u001b[0;32m---> 15\u001b[0m r1 \u001b[38;5;241m=\u001b[39m np\u001b[38;5;241m.\u001b[39mconcatenate((x, y), axis\u001b[38;5;241m=\u001b[39m\u001b[38;5;241m0\u001b[39m)\n\u001b[1;32m     16\u001b[0m \u001b[38;5;28mprint\u001b[39m(r1)\n",
      "\u001b[0;31mValueError\u001b[0m: all the input array dimensions except for the concatenation axis must match exactly, but along dimension 1, the array at index 0 has size 3 and the array at index 1 has size 4"
     ]
    }
   ],
   "source": [
    "# error\n",
    "\n",
    "# column must be same when concatenate by row\n",
    "# row must be same when concatenate by column\n",
    "\n",
    "x = np.random.randint(1, 10, size=(2, 3))\n",
    "y = np.random.randint(20, 30, size=(2, 4))\n",
    "\n",
    "print(x)\n",
    "print(y)\n",
    "\n",
    "r2 = np.concatenate((x, y), axis=1)\n",
    "print(r2)\n",
    "\n",
    "r1 = np.concatenate((x, y), axis=0)\n",
    "print(r1)"
   ]
  },
  {
   "cell_type": "markdown",
   "id": "f20fe49e-9e54-4831-95f3-33c3f4b81662",
   "metadata": {},
   "source": [
    "### Transpose"
   ]
  },
  {
   "cell_type": "code",
   "execution_count": 111,
   "id": "913b27cc-9581-4778-80e9-bb5c8eed27e0",
   "metadata": {},
   "outputs": [
    {
     "name": "stdout",
     "output_type": "stream",
     "text": [
      "[[1 2 3]\n",
      " [4 5 6]]\n",
      "[[1 4]\n",
      " [2 5]\n",
      " [3 6]]\n"
     ]
    }
   ],
   "source": [
    "mat = np.array([\n",
    "    [1, 2, 3],\n",
    "    [4, 5, 6]\n",
    "])\n",
    "print(mat)\n",
    "\n",
    "transpose = mat.T\n",
    "print(transpose)"
   ]
  },
  {
   "cell_type": "markdown",
   "id": "a6136f95-55d7-405f-8326-7695a912236f",
   "metadata": {},
   "source": [
    "### Array spliting"
   ]
  },
  {
   "cell_type": "code",
   "execution_count": 116,
   "id": "44f58511-ed1e-4771-a7b5-e2db98eb3887",
   "metadata": {},
   "outputs": [
    {
     "name": "stdout",
     "output_type": "stream",
     "text": [
      "[4 2 6 9 5 2 3 8 3 8]\n",
      "[array([4, 2, 6, 9]), array([5, 2, 3]), array([8, 3, 8])]\n",
      "[array([8, 8, 2]), array([6, 7, 3]), array([3, 9, 5])]\n"
     ]
    },
    {
     "ename": "ValueError",
     "evalue": "array split does not result in an equal division",
     "output_type": "error",
     "traceback": [
      "\u001b[0;31m---------------------------------------------------------------------------\u001b[0m",
      "\u001b[0;31mValueError\u001b[0m                                Traceback (most recent call last)",
      "Cell \u001b[0;32mIn[116], line 12\u001b[0m\n\u001b[1;32m      9\u001b[0m splitted_array \u001b[38;5;241m=\u001b[39m np\u001b[38;5;241m.\u001b[39msplit(b, \u001b[38;5;241m3\u001b[39m)\n\u001b[1;32m     10\u001b[0m \u001b[38;5;28mprint\u001b[39m(splitted_array)\n\u001b[0;32m---> 12\u001b[0m splitted_array \u001b[38;5;241m=\u001b[39m np\u001b[38;5;241m.\u001b[39msplit(a, \u001b[38;5;241m3\u001b[39m)\n\u001b[1;32m     13\u001b[0m \u001b[38;5;28mprint\u001b[39m(splitted_array)\n",
      "File \u001b[0;32m~/anaconda3/lib/python3.13/site-packages/numpy/lib/_shape_base_impl.py:889\u001b[0m, in \u001b[0;36msplit\u001b[0;34m(ary, indices_or_sections, axis)\u001b[0m\n\u001b[1;32m    887\u001b[0m     N \u001b[38;5;241m=\u001b[39m ary\u001b[38;5;241m.\u001b[39mshape[axis]\n\u001b[1;32m    888\u001b[0m     \u001b[38;5;28;01mif\u001b[39;00m N \u001b[38;5;241m%\u001b[39m sections:\n\u001b[0;32m--> 889\u001b[0m         \u001b[38;5;28;01mraise\u001b[39;00m \u001b[38;5;167;01mValueError\u001b[39;00m(\n\u001b[1;32m    890\u001b[0m             \u001b[38;5;124m'\u001b[39m\u001b[38;5;124marray split does not result in an equal division\u001b[39m\u001b[38;5;124m'\u001b[39m) \u001b[38;5;28;01mfrom\u001b[39;00m\u001b[38;5;250m \u001b[39m\u001b[38;5;28;01mNone\u001b[39;00m\n\u001b[1;32m    891\u001b[0m \u001b[38;5;28;01mreturn\u001b[39;00m array_split(ary, indices_or_sections, axis)\n",
      "\u001b[0;31mValueError\u001b[0m: array split does not result in an equal division"
     ]
    }
   ],
   "source": [
    "a = np.random.randint(1, 10, size=(10,))\n",
    "print(a)\n",
    "\n",
    "splitted_array = np.array_split(a, 3)\n",
    "print(splitted_array)\n",
    "\n",
    "# split -> equal division\n",
    "b = np.random.randint(1, 10, size=(9,))\n",
    "splitted_array = np.split(b, 3)\n",
    "print(splitted_array)\n",
    "\n",
    "splitted_array = np.split(a, 3)\n",
    "print(splitted_array)\n"
   ]
  },
  {
   "cell_type": "markdown",
   "id": "3532c117-caab-4b21-b2c5-ad31ca586311",
   "metadata": {},
   "source": [
    "### Arithmetic operator & mathematical functions"
   ]
  },
  {
   "cell_type": "code",
   "execution_count": 119,
   "id": "d975412b-232a-47ec-8fef-a1303876c2f9",
   "metadata": {},
   "outputs": [
    {
     "name": "stdout",
     "output_type": "stream",
     "text": [
      "[ 10   8  30 100]\n",
      "[2 3 4 5]\n",
      "[ 12  11  34 105]\n",
      "[ 8  5 26 95]\n",
      "[ 20  24 120 500]\n",
      "[ 5.          2.66666667  7.5        20.        ]\n",
      "[0 2 2 0]\n"
     ]
    }
   ],
   "source": [
    "# faster for vectorization \n",
    "\n",
    "x = np.array([10, 8, 30, 100])\n",
    "y = np.array([2, 3, 4, 5])\n",
    "\n",
    "print(x)\n",
    "print(y)\n",
    "\n",
    "add = np.add(x, y)\n",
    "print(add)\n",
    "\n",
    "sub = x - y\n",
    "print(sub)\n",
    "\n",
    "mul = x*y\n",
    "print(mul)\n",
    "\n",
    "div = x/y\n",
    "print(div)\n",
    "\n",
    "remainder = x % y\n",
    "print(remainder)"
   ]
  },
  {
   "cell_type": "code",
   "execution_count": 123,
   "id": "47ad3d6e-5321-4c6d-ad58-e2de48b2e0c6",
   "metadata": {},
   "outputs": [
    {
     "name": "stdout",
     "output_type": "stream",
     "text": [
      "[ 10   8  30 100]\n",
      "[-0.54402111  0.98935825 -0.98803162 -0.50636564]\n",
      "[-0.83907153 -0.14550003  0.15425145  0.86231887]\n",
      "[-31.17011362  56.68605196 -56.61004209 -29.01261413]\n"
     ]
    }
   ],
   "source": [
    "# mathematical function\n",
    "\n",
    "# trigonometry\n",
    "# sin, cos, tan takes values in radian\n",
    "print(x)\n",
    "\n",
    "sin_val = np.sin(x)\n",
    "print(sin_val)\n",
    "\n",
    "cos_val = np.cos(x)\n",
    "print(cos_val)\n",
    "\n",
    "deg_conversion = np.rad2deg(sin_val)\n",
    "print(deg_conversion)"
   ]
  },
  {
   "cell_type": "code",
   "execution_count": 127,
   "id": "2f36bcca-51ab-42b1-98fe-627e907609e2",
   "metadata": {},
   "outputs": [
    {
     "name": "stdout",
     "output_type": "stream",
     "text": [
      "[ 10   8  30 100]\n",
      "[1.         0.90308999 1.47712125 2.        ]\n",
      "[3.32192809 3.         4.9068906  6.64385619]\n",
      "[ 3.16227766  2.82842712  5.47722558 10.        ]\n"
     ]
    }
   ],
   "source": [
    "# logarithmic\n",
    "\n",
    "print(x)\n",
    "base10_log_val = np.log10(x)\n",
    "print(base10_log_val)\n",
    "\n",
    "base2_log_val = np.log2(x)  # how much divide by 2\n",
    "print(base2_log_val)\n",
    "\n",
    "# sqrt\n",
    "sqrt = np.sqrt(x)\n",
    "print(sqrt)"
   ]
  },
  {
   "cell_type": "code",
   "execution_count": 129,
   "id": "6bb93b79-911d-4c7e-90c8-0d1cf2450f59",
   "metadata": {},
   "outputs": [
    {
     "name": "stdout",
     "output_type": "stream",
     "text": [
      "[ 10   8  30 100]\n",
      "[ 10  18  48 148]\n"
     ]
    }
   ],
   "source": [
    "# different\n",
    "print(x)\n",
    "\n",
    "s = np.sum(x)\n",
    "# prefix sum\n",
    "cum_sum = np.cumulative_sum(x)\n",
    "print(cum_sum)"
   ]
  },
  {
   "cell_type": "code",
   "execution_count": 133,
   "id": "70fd623a-c2d7-4637-8ead-b4be6b2394ef",
   "metadata": {},
   "outputs": [
    {
     "name": "stdout",
     "output_type": "stream",
     "text": [
      "[ 10   8  16 100]\n",
      "[ 12  10  18 102]\n",
      "[[10 20 30]\n",
      " [30 40 50]]\n",
      "[[12 22 32]\n",
      " [32 42 52]]\n",
      "[1 2 3]\n",
      "[[11 22 33]\n",
      " [31 42 53]]\n"
     ]
    },
    {
     "ename": "ValueError",
     "evalue": "operands could not be broadcast together with shapes (2,3) (4,) ",
     "output_type": "error",
     "traceback": [
      "\u001b[0;31m---------------------------------------------------------------------------\u001b[0m",
      "\u001b[0;31mValueError\u001b[0m                                Traceback (most recent call last)",
      "Cell \u001b[0;32mIn[133], line 23\u001b[0m\n\u001b[1;32m     20\u001b[0m \u001b[38;5;28mprint\u001b[39m(result)\n\u001b[1;32m     22\u001b[0m vector \u001b[38;5;241m=\u001b[39m np\u001b[38;5;241m.\u001b[39marray([\u001b[38;5;241m1\u001b[39m, \u001b[38;5;241m2\u001b[39m, \u001b[38;5;241m3\u001b[39m, \u001b[38;5;241m4\u001b[39m])\n\u001b[0;32m---> 23\u001b[0m result \u001b[38;5;241m=\u001b[39m mat \u001b[38;5;241m+\u001b[39m vector  \u001b[38;5;66;03m# size of a vector must be same to column size of a matrix \u001b[39;00m\n\u001b[1;32m     25\u001b[0m \u001b[38;5;28mprint\u001b[39m(result)\n",
      "\u001b[0;31mValueError\u001b[0m: operands could not be broadcast together with shapes (2,3) (4,) "
     ]
    }
   ],
   "source": [
    "# broadcasting\n",
    "\n",
    "x = np.array([10, 8, 16, 100])\n",
    "result = x + 2\n",
    "print(x)\n",
    "print(result)\n",
    "\n",
    "mat = np.array([\n",
    "    [10, 20, 30],\n",
    "    [30, 40, 50]\n",
    "])\n",
    "\n",
    "result = mat + 2\n",
    "print(mat)\n",
    "print(result)\n",
    "\n",
    "vector = np.array([1, 2, 3])\n",
    "result = mat + vector\n",
    "print(vector)\n",
    "print(result)\n",
    "\n",
    "vector = np.array([1, 2, 3, 4])\n",
    "result = mat + vector  # size of a vector must be same to column size of a matrix \n",
    "\n",
    "print(result)"
   ]
  },
  {
   "cell_type": "markdown",
   "id": "c1245fd4-2864-4742-bce5-67ac468941cb",
   "metadata": {},
   "source": [
    "### Logical function"
   ]
  },
  {
   "cell_type": "code",
   "execution_count": 141,
   "id": "ee14719a-5f90-424c-8d1d-cf1d9211b81e",
   "metadata": {},
   "outputs": [
    {
     "name": "stdout",
     "output_type": "stream",
     "text": [
      "[ 10   8  16 100]\n",
      "[ 2  3 16  5]\n",
      "[ True  True False  True]\n",
      "[False False  True False]\n",
      "False\n",
      "True\n"
     ]
    }
   ],
   "source": [
    "# comparison >, <, >=, <=, ==, !=\n",
    "\n",
    "x = np.array([10, 8, 16, 100])\n",
    "y = np.array([2, 3, 16, 5])\n",
    "\n",
    "print(x)\n",
    "print(y)\n",
    "\n",
    "greater_than = x > y\n",
    "print(greater_than)\n",
    "\n",
    "equal = x == y\n",
    "print(equal)\n",
    "\n",
    "# all()\n",
    "print(np.all(greater_than))\n",
    "\n",
    "# any\n",
    "print(np.any(equal))"
   ]
  },
  {
   "cell_type": "markdown",
   "id": "03a94225-b49d-4b10-96b7-83a9f05e123c",
   "metadata": {},
   "source": [
    "### Sorting"
   ]
  },
  {
   "cell_type": "code",
   "execution_count": 145,
   "id": "e821fcf2-fc97-4cf5-89fa-8bbe6f368706",
   "metadata": {},
   "outputs": [
    {
     "name": "stdout",
     "output_type": "stream",
     "text": [
      "[ 10   8  16 100]\n",
      "[ 10   8  16 100]\n",
      "[  8  10  16 100]\n"
     ]
    }
   ],
   "source": [
    "# inplace\n",
    "x = np.array([10, 8, 16, 100])\n",
    "z = x.copy()\n",
    "print(z)\n",
    "\n",
    "z.sort()\n",
    "print(x)\n",
    "print(z)"
   ]
  },
  {
   "cell_type": "code",
   "execution_count": 146,
   "id": "58fb805c-2000-403b-b9bc-55152e292415",
   "metadata": {},
   "outputs": [
    {
     "name": "stdout",
     "output_type": "stream",
     "text": [
      "[ 10   8  16 100]\n",
      "[  8  10  16 100]\n",
      "[ 10   8  16 100]\n"
     ]
    }
   ],
   "source": [
    "# copy sorting\n",
    "print(x)\n",
    "sort_arr = np.sort(x)\n",
    "print(sort_arr)\n",
    "print(x)"
   ]
  },
  {
   "cell_type": "code",
   "execution_count": 148,
   "id": "55b1ee2b-ef0d-4065-8e85-968f350c9ebc",
   "metadata": {},
   "outputs": [
    {
     "name": "stdout",
     "output_type": "stream",
     "text": [
      "[[10  3  5]\n",
      " [ 8  4  9]]\n",
      "[[ 3  5 10]\n",
      " [ 4  8  9]]\n",
      "[[ 8  3  5]\n",
      " [10  4  9]]\n"
     ]
    }
   ],
   "source": [
    "# 2D array sorting\n",
    "mat = np.array([[10, 3, 5], [8, 4, 9]])\n",
    "\n",
    "print(mat)\n",
    "hor_sort = np.sort(mat, axis=1)  # horizontal axis = 1\n",
    "print(hor_sort)\n",
    "\n",
    "vert_sort = np.sort(mat, axis=0)\n",
    "print(vert_sort)"
   ]
  },
  {
   "cell_type": "markdown",
   "id": "c647796f-ab59-4109-9a2d-5f3aad6ffdb3",
   "metadata": {},
   "source": [
    "### Searching"
   ]
  },
  {
   "cell_type": "code",
   "execution_count": 150,
   "id": "61769a81-f9b0-4639-8625-946ca653c12e",
   "metadata": {},
   "outputs": [
    {
     "name": "stdout",
     "output_type": "stream",
     "text": [
      "[ 10   8  16 100]\n",
      "(array([1]),)\n",
      "[ 10   0  16 100]\n"
     ]
    }
   ],
   "source": [
    "print(x)\n",
    "\n",
    "# np.where(condition, x, y) if true then x otherwise replace with y\n",
    "index = np.where(x == 8)  # return index\n",
    "print(index)\n",
    "\n",
    "arr = np.where(x > 8, x, 0)  # return array\n",
    "print(arr)"
   ]
  },
  {
   "cell_type": "code",
   "execution_count": 151,
   "id": "b60a4ca7-e4b4-48e5-bccf-1eeb66ff9620",
   "metadata": {},
   "outputs": [
    {
     "name": "stdout",
     "output_type": "stream",
     "text": [
      "[[10  3  5]\n",
      " [ 8  4  9]]\n",
      "[[10  0  0]\n",
      " [ 0  0  9]]\n"
     ]
    }
   ],
   "source": [
    "print(mat)\n",
    "\n",
    "arr = np.where(mat > 8, mat, 0)\n",
    "print(arr)"
   ]
  },
  {
   "cell_type": "code",
   "execution_count": 164,
   "id": "e69f38cd-8b52-4e70-b0ec-857c67eb3ffe",
   "metadata": {},
   "outputs": [
    {
     "name": "stdout",
     "output_type": "stream",
     "text": [
      "[ 10   8  16 100]\n",
      "3\n",
      "1\n"
     ]
    }
   ],
   "source": [
    "# maximum, minimum value index\n",
    "print(x)\n",
    "maximum_value_index = np.argmax(x)\n",
    "minimum_value_index = np.argmin(x)\n",
    "\n",
    "print(maximum_value_index)\n",
    "print(minimum_value_index)"
   ]
  },
  {
   "cell_type": "markdown",
   "id": "1757c699-d075-4385-b0be-cc9782413bda",
   "metadata": {},
   "source": [
    "### Counting"
   ]
  },
  {
   "cell_type": "code",
   "execution_count": 165,
   "id": "4af516b5-7efd-4cec-b6ac-8db3d0750e12",
   "metadata": {},
   "outputs": [
    {
     "name": "stdout",
     "output_type": "stream",
     "text": [
      "[94 66 12 99 45  8 92 58 82 45 33 21 65 59 27  8 79 89 46 35 95  9 99  2\n",
      " 54 80 66  4 12 46 75 89 90 67 45 57 96 67 66 27 10  2 21 96 78  3 29 89\n",
      " 62 15  9 66 57 78 51 84 30 78 88  2 74 65 39 84 14 44 95 53 68 42 45 27\n",
      " 58 27 51 11 19 74 59 78 74  6 30 42 18 67 91 91 36 14  3 20 91 54 63 84\n",
      " 58 12 20 68]\n"
     ]
    }
   ],
   "source": [
    "a = np.random.randint(1, 100, size=(100,))\n",
    "print(a)"
   ]
  },
  {
   "cell_type": "code",
   "execution_count": 166,
   "id": "7b8a251c-b45c-42b9-8960-8ea34fac8628",
   "metadata": {},
   "outputs": [
    {
     "name": "stdout",
     "output_type": "stream",
     "text": [
      "43\n"
     ]
    }
   ],
   "source": [
    "value_greater_than_60 = np.count_nonzero(a > 60)\n",
    "print(value_greater_than_60)"
   ]
  },
  {
   "cell_type": "code",
   "execution_count": 169,
   "id": "8fd54c8e-0c1f-4aa9-996f-d6e2c2cf3ddb",
   "metadata": {},
   "outputs": [
    {
     "name": "stdout",
     "output_type": "stream",
     "text": [
      "[ 2  3  4  6  8  9 10 11 12 14 15 18 19 20 21 27 29 30 33 35 36 39 42 44\n",
      " 45 46 51 53 54 57 58 59 62 63 65 66 67 68 74 75 78 79 80 82 84 88 89 90\n",
      " 91 92 94 95 96 99]\n",
      "[3 2 1 1 2 2 1 1 3 2 1 1 1 2 2 4 1 2 1 1 1 1 2 1 4 2 2 1 2 2 3 2 1 1 2 4 3\n",
      " 2 3 1 4 1 1 1 3 1 3 1 3 1 1 2 2 2]\n",
      "100\n"
     ]
    }
   ],
   "source": [
    "unique_value, count = np.unique(a, return_counts=True)\n",
    "print(unique_value)\n",
    "print(count)\n",
    "print(np.sum(count))"
   ]
  },
  {
   "cell_type": "markdown",
   "id": "83d0c4dc-30ca-4492-ac8b-998f647b4780",
   "metadata": {},
   "source": [
    "## Statistical Function"
   ]
  },
  {
   "cell_type": "code",
   "execution_count": 176,
   "id": "e310e852-77c1-4f2b-950b-1be90b821303",
   "metadata": {},
   "outputs": [
    {
     "name": "stdout",
     "output_type": "stream",
     "text": [
      "[[78. 85. 82.]\n",
      " [56. 67. 72.]\n",
      " [89. 92. 88.]\n",
      " [45. 52. 58.]\n",
      " [70. 75. 80.]\n",
      " [92. 90. 91.]\n",
      " [61. 60. 62.]\n",
      " [55. 57. 54.]\n",
      " [88. 89. 87.]\n",
      " [74. 70. 76.]\n",
      " [66. 69. 68.]\n",
      " [80. 82. 81.]\n",
      " [59. 64. 60.]\n",
      " [73. 78. 74.]\n",
      " [91. 93. 90.]\n",
      " [68. 71. 69.]\n",
      " [77. 79. 78.]\n",
      " [84. 86. 85.]\n",
      " [62. 63. 65.]\n",
      " [95. 97. 96.]]\n",
      "<class 'numpy.ndarray'>\n"
     ]
    }
   ],
   "source": [
    "# data input\n",
    "data = np.genfromtxt('student_scores.csv', delimiter=',', skip_header=1)\n",
    "print(data)\n",
    "print(type(data))"
   ]
  },
  {
   "cell_type": "code",
   "execution_count": 178,
   "id": "e7080065-93a8-4f4e-bace-e6aefb6b0a09",
   "metadata": {},
   "outputs": [
    {
     "name": "stdout",
     "output_type": "stream",
     "text": [
      "[[78. 56. 89. 45. 70. 92. 61. 55. 88. 74. 66. 80. 59. 73. 91. 68. 77. 84.\n",
      "  62. 95.]]\n",
      "95.0\n",
      "45.0\n",
      "73.15\n",
      "73.5\n",
      "13.788672887555204\n"
     ]
    }
   ],
   "source": [
    "# statistics\n",
    "math_marks = data[::, :1]\n",
    "print(math_marks.T)\n",
    "\n",
    "max_math_marks = np.max(math_marks)\n",
    "print(max_math_marks)\n",
    "\n",
    "min_math_marks = np.min(math_marks)\n",
    "print(min_math_marks)\n",
    "\n",
    "avg_math_marks = np.mean(math_marks)\n",
    "print(avg_math_marks)\n",
    "\n",
    "median_math_marks = np.median(math_marks)\n",
    "print(median_math_marks)\n",
    "\n",
    "# standard deviation\n",
    "std_math_marks = np.std(math_marks)\n",
    "print(std_math_marks)"
   ]
  },
  {
   "cell_type": "code",
   "execution_count": 180,
   "id": "1fa5a02c-4d96-49c2-bc8a-d416543854b5",
   "metadata": {},
   "outputs": [
    {
     "name": "stdout",
     "output_type": "stream",
     "text": [
      "[[ 2  4  5  7  8]\n",
      " [65 75 78 88 92]]\n",
      "[[1.         0.99859154]\n",
      " [0.99859154 1.        ]]\n"
     ]
    }
   ],
   "source": [
    "# Correlation matrix\n",
    "\n",
    "study_hours = np.array([2, 4, 5, 7, 8])\n",
    "exam_scores = np.array([65, 75, 78, 88, 92])\n",
    "\n",
    "data = np.array([study_hours, exam_scores])\n",
    "print(data)\n",
    "\n",
    "correlation = np.corrcoef(data)\n",
    "print(correlation)"
   ]
  },
  {
   "cell_type": "markdown",
   "id": "c74fa59e-1c26-48f0-ba1a-bd13d18b91b8",
   "metadata": {},
   "source": [
    "## Linear algebra"
   ]
  },
  {
   "cell_type": "code",
   "execution_count": 182,
   "id": "c6eb0bd4-cddf-4968-aede-0c9823cefcf2",
   "metadata": {},
   "outputs": [
    {
     "name": "stdout",
     "output_type": "stream",
     "text": [
      "[[1 2 3]\n",
      " [4 5 6]]\n",
      "[[ 7  8]\n",
      " [ 9 10]\n",
      " [11 12]]\n",
      "[[ 58  64]\n",
      " [139 154]]\n",
      "17\n"
     ]
    }
   ],
   "source": [
    "# dot product\n",
    "\n",
    "A = np.array([\n",
    "    [1, 2, 3],\n",
    "    [4, 5, 6]\n",
    "])\n",
    "\n",
    "B = np.array([\n",
    "    [7, 8],\n",
    "    [9, 10],\n",
    "    [11, 12]\n",
    "])\n",
    "dot_product = np.dot(A, B)  # col of A and row of B length must be same\n",
    "print(A)\n",
    "print(B)\n",
    "print(dot_product)\n",
    "\n",
    "# trace\n",
    "print(np.trace(B))"
   ]
  },
  {
   "cell_type": "code",
   "execution_count": 184,
   "id": "a1ad1588-f630-4542-965d-18700e969992",
   "metadata": {},
   "outputs": [
    {
     "name": "stdout",
     "output_type": "stream",
     "text": [
      "[[1 2 3]\n",
      " [4 5 6]\n",
      " [7 8 9]]\n",
      "-9.51619735392994e-16\n",
      "2\n"
     ]
    }
   ],
   "source": [
    "# determinant\n",
    "\n",
    "sq_mat = np.array([\n",
    "    [1, 2, 3],\n",
    "    [4, 5, 6],\n",
    "    [7, 8, 9]\n",
    "])\n",
    "det_of_sq = np.linalg.det(sq_mat)\n",
    "print(sq_mat)\n",
    "print(det_of_sq)\n",
    "\n",
    "rank_of_sq = np.linalg.matrix_rank(sq_mat)\n",
    "print(rank_of_sq)"
   ]
  }
 ],
 "metadata": {
  "kernelspec": {
   "display_name": "Python [conda env:base] *",
   "language": "python",
   "name": "conda-base-py"
  },
  "language_info": {
   "codemirror_mode": {
    "name": "ipython",
    "version": 3
   },
   "file_extension": ".py",
   "mimetype": "text/x-python",
   "name": "python",
   "nbconvert_exporter": "python",
   "pygments_lexer": "ipython3",
   "version": "3.13.5"
  },
  "panel-cell-order": [
   "3f6605c7-499d-425d-ac2f-db2927311a33",
   "de2860de-96be-4c17-909c-9df38de97195",
   "f1103e6c-572b-46f6-afbd-d0f039ee6e61",
   "e4146051-4859-47d4-98e0-442a9779167b",
   "f6890fd3-df7f-446f-9e12-149a28be33e0"
  ]
 },
 "nbformat": 4,
 "nbformat_minor": 5
}
